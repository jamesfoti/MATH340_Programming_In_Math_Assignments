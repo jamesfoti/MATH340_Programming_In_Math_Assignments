{
 "cells": [
  {
   "cell_type": "markdown",
   "metadata": {},
   "source": [
    "# Assignment 6\n",
    "## Due Monday, March 11th"
   ]
  },
  {
   "cell_type": "code",
   "execution_count": 1,
   "metadata": {},
   "outputs": [],
   "source": [
    "import numpy as np\n",
    "import matplotlib.pyplot as plt\n",
    "import scipy.integrate as spqd\n",
    "%matplotlib inline"
   ]
  },
  {
   "cell_type": "markdown",
   "metadata": {},
   "source": [
    "** Problem 1 **: (2pts for each part) When we write \n",
    "    \n",
    "` \n",
    "xvals = np.linspace(a,b,int(n)+1)\n",
    "`\n",
    "\n",
    "we are generating a sequence of points $x_{j}$ such that \n",
    "\n",
    "$$\n",
    "\\mbox{xvals[j]} = x_{j}, ~ x_{j} = a + j\\delta x, ~ \\delta x = \\frac{b-a}{n}, ~ j=0,\\cdots,n.\n",
    "$$\n",
    "\n",
    "Thus, if I wanted to generate a sequence of points between $a=1$ and $b=9$ with spacing $\\delta x=.25$, then I would find \n",
    "\n",
    "$$\n",
    ".25 = \\frac{9-1}{n}\n",
    "$$\n",
    "\n",
    "so that $n = 32$.  I could then generate these points via the code\n",
    "\n",
    "`\n",
    "xvals = np.linspace(1.,9.,32 + 1)\n",
    "`\n",
    "\n",
    "Using the model, write the code which will generate\n",
    "\n",
    "1a) A sequence of points between $a=-5$ and $b=7$ with spacing $\\delta x = 5^{-3}$.\n",
    "\n",
    "1b) A sequence of points between $a=0$ and $b=20$ with spacing $\\delta x = 10^{-m}$, where $m$ is a positive integer that a user would specify.  \n",
    "\n",
    "1c) From problem 1a, using array slicing, what code would I write to find the points $x_{j}$ such that $0\\leq x_{j} \\leq 5$?  Your answer should be in the form `xvals[n1:n2]` where `n1` and `n2` are two integers you must find.  \n",
    "\n",
    "1d) From problem 1b, using array slicing, what code would I write to find the points $x_{j}$ such that $2\\leq x_{j} \\leq 9$?  Your answer should be in the form `xvals[n1:n2]` where `n1` and `n2` are two integers you must find, though they will be in terms of $m$.    \n"
   ]
  },
  {
   "cell_type": "markdown",
   "metadata": {},
   "source": [
    "_Answers to Problem 1_"
   ]
  },
  {
   "cell_type": "code",
   "execution_count": 2,
   "metadata": {},
   "outputs": [
    {
     "name": "stdout",
     "output_type": "stream",
     "text": [
      "[-5.    -4.992 -4.984 ...  6.984  6.992  7.   ]\n"
     ]
    }
   ],
   "source": [
    "#1a.\n",
    "xvals1 = np.linspace(-5, 7, 1501) # a = -5, b = -7, n + 1 = 1501\n",
    "print xvals1"
   ]
  },
  {
   "cell_type": "code",
   "execution_count": 3,
   "metadata": {},
   "outputs": [],
   "source": [
    "#1b. \n",
    "#m = input(\"Enter a positive integer: m = \")\n",
    "m = 1\n",
    "xvals2 = np.linspace(0, 20, int(20*(10**m)) + 1) # a = -, b = 20, n + 1 = int(20*(10**-m)) + 1"
   ]
  },
  {
   "cell_type": "code",
   "execution_count": 4,
   "metadata": {},
   "outputs": [
    {
     "data": {
      "text/plain": [
       "array([0.   , 0.008, 0.016, 0.024, 0.032, 0.04 , 0.048, 0.056, 0.064,\n",
       "       0.072, 0.08 , 0.088, 0.096, 0.104, 0.112, 0.12 , 0.128, 0.136,\n",
       "       0.144, 0.152, 0.16 , 0.168, 0.176, 0.184, 0.192, 0.2  , 0.208,\n",
       "       0.216, 0.224, 0.232, 0.24 , 0.248, 0.256, 0.264, 0.272, 0.28 ,\n",
       "       0.288, 0.296, 0.304, 0.312, 0.32 , 0.328, 0.336, 0.344, 0.352,\n",
       "       0.36 , 0.368, 0.376, 0.384, 0.392, 0.4  , 0.408, 0.416, 0.424,\n",
       "       0.432, 0.44 , 0.448, 0.456, 0.464, 0.472, 0.48 , 0.488, 0.496,\n",
       "       0.504, 0.512, 0.52 , 0.528, 0.536, 0.544, 0.552, 0.56 , 0.568,\n",
       "       0.576, 0.584, 0.592, 0.6  , 0.608, 0.616, 0.624, 0.632, 0.64 ,\n",
       "       0.648, 0.656, 0.664, 0.672, 0.68 , 0.688, 0.696, 0.704, 0.712,\n",
       "       0.72 , 0.728, 0.736, 0.744, 0.752, 0.76 , 0.768, 0.776, 0.784,\n",
       "       0.792, 0.8  , 0.808, 0.816, 0.824, 0.832, 0.84 , 0.848, 0.856,\n",
       "       0.864, 0.872, 0.88 , 0.888, 0.896, 0.904, 0.912, 0.92 , 0.928,\n",
       "       0.936, 0.944, 0.952, 0.96 , 0.968, 0.976, 0.984, 0.992, 1.   ,\n",
       "       1.008, 1.016, 1.024, 1.032, 1.04 , 1.048, 1.056, 1.064, 1.072,\n",
       "       1.08 , 1.088, 1.096, 1.104, 1.112, 1.12 , 1.128, 1.136, 1.144,\n",
       "       1.152, 1.16 , 1.168, 1.176, 1.184, 1.192, 1.2  , 1.208, 1.216,\n",
       "       1.224, 1.232, 1.24 , 1.248, 1.256, 1.264, 1.272, 1.28 , 1.288,\n",
       "       1.296, 1.304, 1.312, 1.32 , 1.328, 1.336, 1.344, 1.352, 1.36 ,\n",
       "       1.368, 1.376, 1.384, 1.392, 1.4  , 1.408, 1.416, 1.424, 1.432,\n",
       "       1.44 , 1.448, 1.456, 1.464, 1.472, 1.48 , 1.488, 1.496, 1.504,\n",
       "       1.512, 1.52 , 1.528, 1.536, 1.544, 1.552, 1.56 , 1.568, 1.576,\n",
       "       1.584, 1.592, 1.6  , 1.608, 1.616, 1.624, 1.632, 1.64 , 1.648,\n",
       "       1.656, 1.664, 1.672, 1.68 , 1.688, 1.696, 1.704, 1.712, 1.72 ,\n",
       "       1.728, 1.736, 1.744, 1.752, 1.76 , 1.768, 1.776, 1.784, 1.792,\n",
       "       1.8  , 1.808, 1.816, 1.824, 1.832, 1.84 , 1.848, 1.856, 1.864,\n",
       "       1.872, 1.88 , 1.888, 1.896, 1.904, 1.912, 1.92 , 1.928, 1.936,\n",
       "       1.944, 1.952, 1.96 , 1.968, 1.976, 1.984, 1.992, 2.   , 2.008,\n",
       "       2.016, 2.024, 2.032, 2.04 , 2.048, 2.056, 2.064, 2.072, 2.08 ,\n",
       "       2.088, 2.096, 2.104, 2.112, 2.12 , 2.128, 2.136, 2.144, 2.152,\n",
       "       2.16 , 2.168, 2.176, 2.184, 2.192, 2.2  , 2.208, 2.216, 2.224,\n",
       "       2.232, 2.24 , 2.248, 2.256, 2.264, 2.272, 2.28 , 2.288, 2.296,\n",
       "       2.304, 2.312, 2.32 , 2.328, 2.336, 2.344, 2.352, 2.36 , 2.368,\n",
       "       2.376, 2.384, 2.392, 2.4  , 2.408, 2.416, 2.424, 2.432, 2.44 ,\n",
       "       2.448, 2.456, 2.464, 2.472, 2.48 , 2.488, 2.496, 2.504, 2.512,\n",
       "       2.52 , 2.528, 2.536, 2.544, 2.552, 2.56 , 2.568, 2.576, 2.584,\n",
       "       2.592, 2.6  , 2.608, 2.616, 2.624, 2.632, 2.64 , 2.648, 2.656,\n",
       "       2.664, 2.672, 2.68 , 2.688, 2.696, 2.704, 2.712, 2.72 , 2.728,\n",
       "       2.736, 2.744, 2.752, 2.76 , 2.768, 2.776, 2.784, 2.792, 2.8  ,\n",
       "       2.808, 2.816, 2.824, 2.832, 2.84 , 2.848, 2.856, 2.864, 2.872,\n",
       "       2.88 , 2.888, 2.896, 2.904, 2.912, 2.92 , 2.928, 2.936, 2.944,\n",
       "       2.952, 2.96 , 2.968, 2.976, 2.984, 2.992, 3.   , 3.008, 3.016,\n",
       "       3.024, 3.032, 3.04 , 3.048, 3.056, 3.064, 3.072, 3.08 , 3.088,\n",
       "       3.096, 3.104, 3.112, 3.12 , 3.128, 3.136, 3.144, 3.152, 3.16 ,\n",
       "       3.168, 3.176, 3.184, 3.192, 3.2  , 3.208, 3.216, 3.224, 3.232,\n",
       "       3.24 , 3.248, 3.256, 3.264, 3.272, 3.28 , 3.288, 3.296, 3.304,\n",
       "       3.312, 3.32 , 3.328, 3.336, 3.344, 3.352, 3.36 , 3.368, 3.376,\n",
       "       3.384, 3.392, 3.4  , 3.408, 3.416, 3.424, 3.432, 3.44 , 3.448,\n",
       "       3.456, 3.464, 3.472, 3.48 , 3.488, 3.496, 3.504, 3.512, 3.52 ,\n",
       "       3.528, 3.536, 3.544, 3.552, 3.56 , 3.568, 3.576, 3.584, 3.592,\n",
       "       3.6  , 3.608, 3.616, 3.624, 3.632, 3.64 , 3.648, 3.656, 3.664,\n",
       "       3.672, 3.68 , 3.688, 3.696, 3.704, 3.712, 3.72 , 3.728, 3.736,\n",
       "       3.744, 3.752, 3.76 , 3.768, 3.776, 3.784, 3.792, 3.8  , 3.808,\n",
       "       3.816, 3.824, 3.832, 3.84 , 3.848, 3.856, 3.864, 3.872, 3.88 ,\n",
       "       3.888, 3.896, 3.904, 3.912, 3.92 , 3.928, 3.936, 3.944, 3.952,\n",
       "       3.96 , 3.968, 3.976, 3.984, 3.992, 4.   , 4.008, 4.016, 4.024,\n",
       "       4.032, 4.04 , 4.048, 4.056, 4.064, 4.072, 4.08 , 4.088, 4.096,\n",
       "       4.104, 4.112, 4.12 , 4.128, 4.136, 4.144, 4.152, 4.16 , 4.168,\n",
       "       4.176, 4.184, 4.192, 4.2  , 4.208, 4.216, 4.224, 4.232, 4.24 ,\n",
       "       4.248, 4.256, 4.264, 4.272, 4.28 , 4.288, 4.296, 4.304, 4.312,\n",
       "       4.32 , 4.328, 4.336, 4.344, 4.352, 4.36 , 4.368, 4.376, 4.384,\n",
       "       4.392, 4.4  , 4.408, 4.416, 4.424, 4.432, 4.44 , 4.448, 4.456,\n",
       "       4.464, 4.472, 4.48 , 4.488, 4.496, 4.504, 4.512, 4.52 , 4.528,\n",
       "       4.536, 4.544, 4.552, 4.56 , 4.568, 4.576, 4.584, 4.592, 4.6  ,\n",
       "       4.608, 4.616, 4.624, 4.632, 4.64 , 4.648, 4.656, 4.664, 4.672,\n",
       "       4.68 , 4.688, 4.696, 4.704, 4.712, 4.72 , 4.728, 4.736, 4.744,\n",
       "       4.752, 4.76 , 4.768, 4.776, 4.784, 4.792, 4.8  , 4.808, 4.816,\n",
       "       4.824, 4.832, 4.84 , 4.848, 4.856, 4.864, 4.872, 4.88 , 4.888,\n",
       "       4.896, 4.904, 4.912, 4.92 , 4.928, 4.936, 4.944, 4.952, 4.96 ,\n",
       "       4.968, 4.976, 4.984, 4.992, 5.   ])"
      ]
     },
     "execution_count": 4,
     "metadata": {},
     "output_type": "execute_result"
    }
   ],
   "source": [
    "#1c. \n",
    "xvals1[625: 1251]"
   ]
  },
  {
   "cell_type": "code",
   "execution_count": 5,
   "metadata": {},
   "outputs": [
    {
     "data": {
      "text/plain": [
       "array([2. , 2.1, 2.2, 2.3, 2.4, 2.5, 2.6, 2.7, 2.8, 2.9, 3. , 3.1, 3.2,\n",
       "       3.3, 3.4, 3.5, 3.6, 3.7, 3.8, 3.9, 4. , 4.1, 4.2, 4.3, 4.4, 4.5,\n",
       "       4.6, 4.7, 4.8, 4.9, 5. , 5.1, 5.2, 5.3, 5.4, 5.5, 5.6, 5.7, 5.8,\n",
       "       5.9, 6. , 6.1, 6.2, 6.3, 6.4, 6.5, 6.6, 6.7, 6.8, 6.9, 7. , 7.1,\n",
       "       7.2, 7.3, 7.4, 7.5, 7.6, 7.7, 7.8, 7.9, 8. , 8.1, 8.2, 8.3, 8.4,\n",
       "       8.5, 8.6, 8.7, 8.8, 8.9, 9. ])"
      ]
     },
     "execution_count": 5,
     "metadata": {},
     "output_type": "execute_result"
    }
   ],
   "source": [
    "#1d. \n",
    "n1 = 2*(10**m)\n",
    "n2 = 9*(10**m)\n",
    "xvals2[n1: n2 + 1]"
   ]
  },
  {
   "cell_type": "markdown",
   "metadata": {},
   "source": [
    "** Problem 2 **: We can generalize the Fibonacci sequence so that we have the recurrence relationship\n",
    "\n",
    "$$\n",
    "p_{n} = ap_{n-1} + bp_{n-2}, ~ b \\in \\mathbb{R}, ~ n\\geq 2,\n",
    "$$\n",
    "\n",
    "where we start the sequence $p_{n}$ with the initial conditions\n",
    "\n",
    "$$\n",
    "p_{0} = s_{0}, ~ p_{1} = 1, ~ s_{0} \\in \\mathbb{R}.\n",
    "$$\n",
    "\n",
    "2a) (3pts) Using the guess $p_{n} = \\lambda^{n}$, show that you get two solutions for $\\lambda$, say $\\lambda_{\\pm}$, where\n",
    "\n",
    "$$\n",
    "\\lambda_{\\pm} = \\frac{1}{2}\\left(a \\pm \\sqrt{a^2+4b}\\right)\n",
    "$$\n",
    "\n",
    "2b) (3pts) Writing the general solution as \n",
    "\n",
    "$$\n",
    "p_{n} = c_{+}\\lambda_{+}^{n} + c_{-}\\lambda_{-}^{n}\n",
    "$$\n",
    "\n",
    "show that when we take our initial conditions into account, we find that the constants $c_{+}$ and $c_{-}$ are given by \n",
    "\n",
    "$$\n",
    "c_{+} = \\frac{1-s_{0}\\lambda_{-}}{\\lambda_{+}-\\lambda_{-}}, ~ c_{-} = \\frac{s_{0}\\lambda_{+}-1}{\\lambda_{+}-\\lambda_{-}}\n",
    "$$\n",
    "\n",
    "2c) (4pts) Let $b = 1$ and $a=2$.  \n",
    "\n",
    "i.) Determine which of the following is correct (you must show work to obtain full credit): \n",
    "$$\n",
    "A.) ~ \\left|\\lambda_{+}\\right| > 1, \\quad B.) \\left|\\lambda_{+} \\right|<1\n",
    "$$ \n",
    "\n",
    "\n",
    "ii.) Determine which of the following is correct (you must show work to obtain full credit): \n",
    "$$\n",
    "A.) ~ \\left|\\lambda_{-}\\right| > 1, \\quad B.) \\left|\\lambda_{-} \\right|<1\n",
    "$$"
   ]
  },
  {
   "cell_type": "markdown",
   "metadata": {},
   "source": [
    "_Answers to Problem 2_"
   ]
  },
  {
   "cell_type": "markdown",
   "metadata": {},
   "source": [
    "2a. \n",
    "$$\n",
    "\\text{Let } P_{n} = \\lambda^{n}. \\text{ Then } \\lambda^{n} = a\\lambda^{n-1} + b\\lambda^{n-2}\n",
    "$$\n",
    "\n",
    "$$\n",
    "\\begin{align}\n",
    "& = a\\lambda^{n} \\lambda^{-1} + b\\lambda^{n}\\lambda^{-2} \\\\\n",
    "& = \\frac{a\\lambda^{n}}{\\lambda} + \\frac{b\\lambda^{n}}{\\lambda^{2}} \\\\\n",
    "& 1 = \\frac{a}{\\lambda} + \\frac{b}{\\lambda^{2}} \\\\\n",
    "& \\lambda^{2} = a\\lambda + b \\\\\n",
    "& \\lambda^{2} - a\\lambda - b = 0. \\\\\n",
    "& \\\\\n",
    "& \\text{Using the quadratic formula, we get: } \\\\\n",
    "& \\\\\n",
    "& \\lambda_{\\pm} = \\frac{-(-a)\\pm\\sqrt{(-a)^{2}-4(1)(-b)}}{2} \\\\\n",
    "& = \\frac{a\\pm\\sqrt{a^{2}+4b}}{2} \\\\\n",
    "& \\lambda_{\\pm} = \\frac{1}{2}\\Big(a\\pm\\sqrt{a^{2}+4b}\\Big) \\\\\n",
    "\\end{align}\n",
    "$$"
   ]
  },
  {
   "cell_type": "markdown",
   "metadata": {},
   "source": [
    "2b. \n",
    "$$\n",
    "\\begin{align}\n",
    "& p_{n} = c_{+}\\lambda_{+}^{n} + c_{-}\\lambda_{-}^{n} \\\\\n",
    "& \\text{Using the first initial condition, } P_{0} = s_{0} \\text{, we get: } \\\\\n",
    "& P_{0} = s_{0} = C_{+}\\lambda_{+}^{0} + C_{-}\\lambda_{-}^{0} \\\\\n",
    "& s_{0} = C_{+} + C_{-} \\\\\n",
    "& C_{+} = s_{0} - C_{-} \\\\\n",
    "& C_{-} = s_{0} - C_{+} \\\\\n",
    "\\end{align}\n",
    "$$\n",
    "\n",
    "$$\n",
    "\\begin{align}\n",
    "& \\text{Using the other initital condition, } P_{1} = s_{1} \\text{, we get:} \\\\\n",
    "& P_{1} = 1 = C_{+}\\lambda_{+}^{1} + C_{-}\\lambda_{-}^{1} \\\\\n",
    "& 1 = C_{+}\\lambda_{+} + C_{-}\\lambda_{-} \\\\\n",
    "\\end{align}\n",
    "$$\n",
    "\n",
    "$$\n",
    "\\begin{align}\n",
    "& \\text{To solve for } C_{+} \\text{, we plug in } C_{-} = s_{0} - C_{+}: \\\\\n",
    "& 1 = C_{+}\\lambda_{+} + (s_{0}-C_{+})\\lambda_{-} \\\\\n",
    "& 1 = C_{+}\\lambda_{+} + s_{0}\\lambda_{-} - C_{+}\\lambda_{-} \\\\\n",
    "& 1 - s_{0}\\lambda_{-} = C_{+}\\lambda_{+} - C_{+}\\lambda_{-} \\\\\n",
    "& 1 - s_{0}\\lambda_{-} = C_{+}(\\lambda_{+} - \\lambda_{-}) \\\\\n",
    "& C_{+} = \\frac{1-s_{0}\\lambda_{-}}{\\lambda_{+}-\\lambda_{-}} \\\\\n",
    "\\end{align}\n",
    "$$\n",
    "\n",
    "$$\n",
    "\\begin{align}\n",
    "& \\text{To solve for } C_{-} \\text{, we plug in } C_{+} = s_{0} - C_{-}: \\\\\n",
    "& 1 = (s_{0}-C_{-})\\lambda_{+} + C_{-}\\lambda_{-} \\\\\n",
    "& 1 = s_{0}\\lambda_{+} - C_{-}\\lambda_{+} + C_{-}\\lambda_{-} \\\\\n",
    "& 1 - s_{0}\\lambda_{+} = -C_{-}\\lambda_{+} + C_{-}\\lambda_{-} \\\\\n",
    "& 1 - s_{0}\\lambda_{+} = C_{-}(-\\lambda_{+} + \\lambda_{-}) \\\\\n",
    "& C_{-} = \\frac{1-s_{0}\\lambda_{+}}{-\\lambda_{+} + \\lambda_{-}} \\\\\n",
    "& C_{-} = \\frac{-(s_{0}\\lambda_{+}-1)}{-(\\lambda_{+} - \\lambda_{-})} \\\\\n",
    "& C_{-} = \\frac{s_{0}\\lambda_{+}-1}{\\lambda_{+} - \\lambda_{-}} \\\\\n",
    "\\end{align}\n",
    "$$"
   ]
  },
  {
   "cell_type": "markdown",
   "metadata": {},
   "source": [
    "2c. \n",
    "$$\n",
    "\\begin{align}\n",
    "& \\text{If we plug in } a = 2 \\text{ and } b = 1 \\text{, we get: } \\\\\n",
    "& \\lambda_{\\pm} = \\frac{1}{2}\\Big(2\\pm\\sqrt{(2)^{2}+4(1)}\\Big) \\\\\n",
    "& = \\frac{1}{2}\\Big(2\\pm\\sqrt{4+4}\\Big) \\\\\n",
    "& = \\frac{1}{2}\\Big(2\\pm\\sqrt{16}\\Big) \\\\\n",
    "& \\lambda_{\\pm} = \\frac{1}{2}\\Big(2\\pm4\\Big) \\\\\n",
    "\\end{align}\n",
    "$$\n",
    "\n",
    "$$\n",
    "\\begin{align}\n",
    "& \\text{i.)}\\lambda_{+} = \\frac{1}{2}(2+4) \\\\\n",
    "& = \\frac{1}{2}(6) \\\\\n",
    "& = 3 \\\\\n",
    "& |\\lambda_{+}| = 3 > 1 \\\\\n",
    "& \\text{So the answer is A.} \\\\\n",
    "\\end{align}\n",
    "$$\n",
    "\n",
    "$$\n",
    "\\begin{align}\n",
    "& \\text{ii.)}\\lambda_{-} = \\frac{1}{2}(2-4) \\\\\n",
    "& = \\frac{1}{2}(-2) \\\\\n",
    "& = -1 \\\\\n",
    "& |\\lambda_{-}| = 1 \\\\\n",
    "& \\text{So the answer is neither.} \\\\\n",
    "\\end{align}\n",
    "$$"
   ]
  },
  {
   "cell_type": "markdown",
   "metadata": {},
   "source": [
    "** Problem 3 **: Now let us numerically explore the results from Problem 2.  \n",
    "\n",
    "3a) (3pts) Using the skeleton-code below write a function `fib_general` which generates, for given integer value $n\\geq 2$ and real values `a`, `s0`, and `s1`, the $n+1$ array of points `pn` such that \n",
    "\n",
    "`\n",
    "pn[0] = s0, pn[1] = s1\n",
    "`\n",
    "\n",
    "and the entries in `pn` are given by the recurrence relationship from Problem 2.  \n",
    "\n",
    "3b) (3pts) Fixing $n=10$, $s_{0}=1$, $s_{1}=1$, using your results from Problem 2c, choose three values of $a$, one each from the three different ranges of values of $a$, and generate a plot of $p_{n}$ for each.  Make sure axes are appropriately labeled.  Explain how the plot confirms the results you found in Problem 2c.  \n",
    "\n",
    "3c) (2pts) Fixing $n=10$, $s_{0}=1$, $s_{1}=1$, choose $a=-1/2$ and generate a plot of $p_{n}$.  Briefly explain the results you see and how they differ from those in Problem 3b).  "
   ]
  },
  {
   "cell_type": "markdown",
   "metadata": {},
   "source": [
    "_Answers to Problem 3_"
   ]
  },
  {
   "cell_type": "code",
   "execution_count": 6,
   "metadata": {},
   "outputs": [],
   "source": [
    "#3a.\n",
    "def fib_general(n,a,s0,s1):\n",
    "    #add code here \n",
    "    b = 1\n",
    "    n = int(n)\n",
    "    pn = np.ones(n + 1) #an array of ones of size (n+1)\n",
    "    pn[0] = s0 #pn[0] = s0 = 1\n",
    "    pn[1] = s1 #pn[1] = s1 = 1\n",
    "    \n",
    "    for jj in xrange(2, n + 1):\n",
    "        pn[jj] = a*pn[jj-1] + b*pn[jj-2]\n",
    "        \n",
    "        #p[2] = pn[1] + pn[0] --> pn[2] = 1 + 1 = 2 \n",
    "        #p[3] = pn[2] + pn[1] --> pn[3] = 2 + 1 = 3\n",
    "        #p[4] = pn[3] + pn[2] --> pn[4] = 3 + 2 = 5\n",
    "        #...\n",
    "        #p[n] = pn[n-1] + pn[n-2] \n",
    "        \n",
    "    return pn"
   ]
  },
  {
   "cell_type": "code",
   "execution_count": 7,
   "metadata": {},
   "outputs": [
    {
     "data": {
      "text/plain": [
       "<matplotlib.legend.Legend at 0x1518acfd90>"
      ]
     },
     "execution_count": 7,
     "metadata": {},
     "output_type": "execute_result"
    },
    {
     "data": {
      "image/png": "[encoded data removed]",
      "text/plain": [
       "<Figure size 432x288 with 1 Axes>"
      ]
     },
     "metadata": {
      "needs_background": "light"
     },
     "output_type": "display_data"
    }
   ],
   "source": [
    "#3b. \n",
    "n = 10\n",
    "s0 = 1\n",
    "s1 = 1\n",
    "\n",
    "a1 = 5\n",
    "a2 = 10\n",
    "a3 = 15\n",
    "\n",
    "pn_vals1 = fib_general(n,a1,s0,s1)\n",
    "pn_vals2 = fib_general(n,a2,s0,s1)\n",
    "pn_vals3 = fib_general(n,a3,s0,s1)\n",
    "\n",
    "plt.plot(pn_vals1, color = 'b', ls = '--', label = '$a_{1} = 5$')\n",
    "plt.plot(pn_vals2, color = 'g', ls = '--', label = '$a_{2} = 10$')\n",
    "plt.plot(pn_vals3, color = 'r', ls = '--', label = '$a_{3} = 15$')\n",
    "\n",
    "plt.title(\"General Fibonacci Sequence\")\n",
    "plt.xlabel(\"n\")\n",
    "plt.ylabel(\"$P_{n}$\")\n",
    "plt.legend()"
   ]
  },
  {
   "cell_type": "code",
   "execution_count": 8,
   "metadata": {},
   "outputs": [
    {
     "data": {
      "text/plain": [
       "<matplotlib.legend.Legend at 0x15188132d0>"
      ]
     },
     "execution_count": 8,
     "metadata": {},
     "output_type": "execute_result"
    },
    {
     "data": {
      "image/png": "[encoded data removed]",
      "text/plain": [
       "<Figure size 432x288 with 1 Axes>"
      ]
     },
     "metadata": {
      "needs_background": "light"
     },
     "output_type": "display_data"
    }
   ],
   "source": [
    "#3c.\n",
    "a4 = (-1/2)\n",
    "pn_vals4 = fib_general(n,a4,s0,s1)\n",
    "plt.plot(pn_vals4, color = 'b', ls = '--', label = '$a_{4} = 4$')\n",
    "plt.xlabel('n')\n",
    "plt.ylabel('$P_{n}$')\n",
    "plt.legend()"
   ]
  },
  {
   "cell_type": "markdown",
   "metadata": {},
   "source": [
    "** Problem 4 **: Let the Fresnel function $f(x)$ be defined via the integral\n",
    "\n",
    "$$\n",
    "f(x) = \\int_{0}^{x} \\sin(t^{2}) dt.\n",
    "$$\n",
    "\n",
    "4a) (2pts) Write the code that creates a sequence of $n+1$ points $x_{j}$ such that $0 \\leq x_{j} \\leq x$, with  \n",
    "\n",
    "$$\n",
    "x_{j} = j\\delta x, ~ \\delta x = \\frac{x}{n}, ~ j=0,\\cdots,n\n",
    "$$\n",
    "\n",
    "4b) (2pts) Find the second order Taylor polynomial approximation around $x_{j}$ of $\\sin(t^{2})$, i.e. find  $T_{2}(t;x_{j})$.  \n",
    "\n",
    "4c) (2pts) Using the fact that $\\delta x = x_{j+1}-x_{j}$, show that \n",
    "\n",
    "\n",
    "$$\n",
    "\\int_{x_{j}}^{x_{j+1}} T_{2}(t;x_{j})dt = \\delta x \\sin\\left(x_{j}^{2}\\right)+ \\delta x^{2} \\left(x_{j}\\cos\\left(x_{j}^{2}\\right)\\right) + \\frac{\\delta x^{3}}{3}\\left(\\cos\\left(x_{j}^{2}\\right)-2x_{j}^{2}\\sin\\left(x_{j}^{2}\\right)\\right)\n",
    "$$\n",
    "Note, the $u$-substitution $u=t-x_{j}$ will make your life so much easier here.  \n",
    "\n",
    "4d) (4pts) Using basic properties of integrals and Taylor series, show that \n",
    "\\begin{align*}\n",
    "f(x_{j+1}) = & f(x_{j}) + \\int_{x_{j}}^{x_{j+1}}\\sin(t^{2})dt \\\\\n",
    "\\approx & f(x_{j}) + \\int_{x_{j}}^{x_{j+1}}T_{2}(t;x_{j})dt\\\\\n",
    "\\approx & f(x_{j}) + \\left(\\delta x \\sin\\left(x_{j}^{2}\\right)+ \\delta x^{2} \\left(x_{j}\\cos\\left(x_{j}^{2}\\right)\\right) + \\frac{\\delta x^{3}}{3}\\left(\\cos\\left(x_{j}^{2}\\right)-2x_{j}^{2}\\sin\\left(x_{j}^{2}\\right)\\right) \\right)\n",
    "\\end{align*}\n",
    "\n",
    "Using the code-skeleton below, write a Python function called `fresnel_integrator` which takes an array `xvals` and returns a corresponding array, `fvals`, which contains the values of the Fresnel function $f(x)$.  Plot $f(x)$ for $0\\leq x \\leq 10$ with $\\delta x = 10^{-2}$.  Briefly describe what you see.  \n",
    "\n",
    "4e) (4pts) Fixing $x=10$, compare your approximate integrator to the \"true\" value of $f(10)$ for $\\delta x =1,10^{-1},10^{-2},10^{-3}, 10^{-4}$ and generate a log-log plot of the error versus the corresponding value of $n$.  Label axes for your graph.  Describe your graph and comment on any trends you observe.\n",
    "\n",
    "Use the code \n",
    "\n",
    "`\n",
    "fvalf = spqd.quad(lambda t: np.sin(t**2.),0.,10.)\n",
    "fvalt = fvalf[0]\n",
    "`\n",
    "\n",
    "to generate the \"true\" value `fvalt`.  Likewise note, if we want the last entry of an array, say `fvals`, we just call\n",
    "\n",
    "`\n",
    "fvals[-1]\n",
    "`\n",
    "\n",
    "See the code-skeleton below.  "
   ]
  },
  {
   "cell_type": "markdown",
   "metadata": {},
   "source": [
    "_Answers to Problem 4_"
   ]
  },
  {
   "cell_type": "code",
   "execution_count": 9,
   "metadata": {},
   "outputs": [],
   "source": [
    "#4a. \n",
    "def GeneralSequenceOfPoints(x, dx): # x = endpoint of the sequence, dx = spacing\n",
    "    n = (x/dx)\n",
    "    xvals = np.linspace(0, x, n+1) # a = 0, b = x, number of points = n + 1\n",
    "    return xvals"
   ]
  },
  {
   "cell_type": "code",
   "execution_count": 10,
   "metadata": {},
   "outputs": [
    {
     "data": {
      "text/plain": [
       "array([ 0.,  1.,  2.,  3.,  4.,  5.,  6.,  7.,  8.,  9., 10.])"
      ]
     },
     "execution_count": 10,
     "metadata": {},
     "output_type": "execute_result"
    }
   ],
   "source": [
    "#This sequence will go from 0 to x with spacing beetween each points of dx. \n",
    "#Enter GeneralSequenceOfPoints(x, dx), x = endpoint and dx = spacing\n",
    "GeneralSequenceOfPoints(10, 1) # x = 10, dx = 1"
   ]
  },
  {
   "cell_type": "markdown",
   "metadata": {},
   "source": [
    "4b. \n",
    "\n",
    "$$\n",
    "\\begin{align}\n",
    "& T_{2}(t;x_{j}) = f(x_{j}) + f'(x_{j})(x-x_{j}) + \\frac{f^{2}(x_{j})}{2!}(x-x_{j})^{2}\\\\\n",
    "& f(x) = \\sin(t^{2}) \\implies f(x_{j}) = \\sin(x_{j}^{2})   \\\\\n",
    "& f'(x) = 2t\\cos(t^{2}) \\implies f'(x_{j}) = 2x_{j}\\cos(x_{j}^{2})\\\\\n",
    "& f''(x) = 2\\cos(t^{2})-4t^{2}\\sin(t^{2}) \\implies f''(x_{j}) = 2\\cos(x_{j}^{2})-4t^{2}\\sin(x_{j}^{2})\\\\\n",
    "& T_{2}(t;x_{j}) = \\sin(x_{j}^{2}) + 2x_{j}\\cos(x_{j}^{2})(t-x_{j})+\\frac{2\\cos(x_{j})^{2}-4x_{j}^{2}\\sin(x_{j}^{2})}{2!}(t-x_{j})^{2}\\\\\n",
    "& T_{2}(t;x_{j}) = \\sin(x_{j}^{2}) + 2x_{j}\\cos(x_{j}^{2})(t-x_{j})+\\Big(\\cos(x_{j}^{2})-2x_{j}^{2}\\sin(x_{j}^{2})\\Big)(t-x_{j})^{2}\\\\\n",
    "\\end{align}\n",
    "$$"
   ]
  },
  {
   "cell_type": "markdown",
   "metadata": {},
   "source": [
    "4c.\n",
    "\n",
    "$$\n",
    "\\begin{align}\n",
    "& \\int_{x_{j}}^{x_{j+1}} \\sin(x_{j}^{2}) + 2x_{j}\\cos(x_{j}^{2})(t-x_{j}) + \\Big(\\cos(x_{j}^{2})-2x_{j}^{2}\\sin(x_{j}^{2})\\Big)(t-x_{j})^{2}\\\\\n",
    "& u = t - x_{j}, ~~du = 1dt \\implies u(x_{j}) = 0, ~~u(x_{j+1}) = x_{j+1}-x_{j} \\\\\n",
    "& \\int_{x_{j}}^{x_{j+1}} \\sin(x_{j}^{2}) +2x_{j}\\cos(x_{j}^{2})u + \\Big(\\cos(x_{j}^{2})-2x_{j}^{2}\\sin(x_{j}^{2})\\Big)u^{2} du \\\\\n",
    "& = \\Big[u\\sin(x_{j}^{2}) + x_{j}\\cos(x_{j}^{2})u^{2} + \\frac{\\big(\\cos(x_{j}^{2})-2x_{j}^{2}\\sin(x_{j}^{2}\\big)u^{3}}{3}\\Big]_{0}^{x_{j+1}-x_{j}}\\\\\n",
    "& = (x_{j+1}-x_{j})\\sin(x_{j}^{2}) + (x_{j+1}-x_{j})^{2}x_{j}\\cos(x_{j}^{2}) + \\frac{\\cos(x_{j}^{2})-2x_{j}^{2}\\sin(x_{j}^{2})(x_{j+1}-x_{j})^{3}}{3} \\\\\n",
    "& \\delta x = x_{j+1} -x_{j}\\\\\n",
    "& \\therefore \\int_{x_{j}}^{x_{j+1}} T_{2}(t;x_{j})dt = \\delta x \\sin\\left(x_{j}^{2}\\right)+ \\delta x^{2} \\left(x_{j}\\cos\\left(x_{j}^{2}\\right)\\right) + \\frac{\\delta x^{3}}{3}\\left(\\cos\\left(x_{j}^{2}\\right)-2x_{j}^{2}\\sin\\left(x_{j}^{2}\\right)\\right) \\\\\n",
    "\\end{align}\n",
    "$$"
   ]
  },
  {
   "cell_type": "code",
   "execution_count": 11,
   "metadata": {},
   "outputs": [
    {
     "data": {
      "text/plain": [
       "Text(0.5,1,'Fresnel Integrator')"
      ]
     },
     "execution_count": 11,
     "metadata": {},
     "output_type": "execute_result"
    },
    {
     "data": {
      "image/png": "[encoded data removed]",
      "text/plain": [
       "<Figure size 432x288 with 1 Axes>"
      ]
     },
     "metadata": {
      "needs_background": "light"
     },
     "output_type": "display_data"
    }
   ],
   "source": [
    "#4d. - You add in the missing code\n",
    "def fresnel_integrator(xvals):\n",
    "    dx = xvals[1]-xvals[0] \n",
    "    n = len(xvals)\n",
    "    fvals = np.zeros(int(n))\n",
    "    for jj in xrange(0,int(n-1)):\n",
    "        xj = xvals[jj]\n",
    "        x2 = xj**2.\n",
    "        cx = np.cos(x2)\n",
    "        sx = np.sin(x2)\n",
    "        fupdate = (dx*sx) + ((dx**2)*xj*cx) + ((dx**3)/3)*(cx-(2*xj)*sx)\n",
    "        fvals[jj+1] = fupdate + fvals[jj]\n",
    "    return fvals\n",
    "\n",
    "xvals = np.linspace(0.,10.,int(1e5)+1)\n",
    "fvals = fresnel_integrator(xvals)\n",
    "plt.plot(xvals,fvals)\n",
    "plt.xlabel('$x$')\n",
    "plt.ylabel('$f(x)$')\n",
    "plt.title('Fresnel Integrator')"
   ]
  },
  {
   "cell_type": "code",
   "execution_count": 12,
   "metadata": {},
   "outputs": [],
   "source": [
    "#4d - Comments\n",
    "#The graph reaches a maximum a little aboove f(x) = .8 and it appears to be oscilatingl like a trig function\n",
    "#Apparently, this functino is used in the study of optics and is closely related to the error function (erf)"
   ]
  },
  {
   "cell_type": "code",
   "execution_count": 13,
   "metadata": {},
   "outputs": [
    {
     "data": {
      "text/plain": [
       "Text(0.5,1,'Log Error')"
      ]
     },
     "execution_count": 13,
     "metadata": {},
     "output_type": "execute_result"
    },
    {
     "data": {
      "image/png": "[encoded data removed]",
      "text/plain": [
       "<Figure size 432x288 with 1 Axes>"
      ]
     },
     "metadata": {
      "needs_background": "light"
     },
     "output_type": "display_data"
    }
   ],
   "source": [
    "#4e. - You add in the missing code\n",
    "\n",
    "fvalf = spqd.quad(lambda t: np.sin(t**2.),0.,10.)\n",
    "fvalt = fvalf[0]\n",
    "\n",
    "nvals = [int(11/dx) for dx in [1, 1e-1, 1e-2, 1e-3, 1e-4]]\n",
    "evals = np.zeros(len(nvals))\n",
    "\n",
    "for ll in xrange(len(nvals)):\n",
    "    xvals = np.linspace(0.,10., nvals[ll])\n",
    "    fvals = fresnel_integrator(xvals)\n",
    "    evals[ll] = np.log10(np.abs(fvals[-1]-fvalt))\n",
    "\n",
    "plt.plot(np.log10(nvals), evals)\n",
    "plt.xlabel('$n$')\n",
    "plt.ylabel('$\\log_{10}|Error|$')\n",
    "plt.title('Log Error')"
   ]
  },
  {
   "cell_type": "code",
   "execution_count": 14,
   "metadata": {},
   "outputs": [],
   "source": [
    "#4e - Comments \n",
    "#It appears the graph produces a line but it makes a pointy turn at around n = 2."
   ]
  }
 ],
 "metadata": {
  "kernelspec": {
   "display_name": "Python 2",
   "language": "python",
   "name": "python2"
  },
  "language_info": {
   "codemirror_mode": {
    "name": "ipython",
    "version": 2
   },
   "file_extension": ".py",
   "mimetype": "text/x-python",
   "name": "python",
   "nbconvert_exporter": "python",
   "pygments_lexer": "ipython2",
   "version": "2.7.15"
  }
 },
 "nbformat": 4,
 "nbformat_minor": 2
}
