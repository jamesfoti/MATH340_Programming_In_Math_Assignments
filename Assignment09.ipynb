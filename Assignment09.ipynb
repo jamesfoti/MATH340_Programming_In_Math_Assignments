{
 "cells": [
  {
   "cell_type": "markdown",
   "metadata": {},
   "source": [
    "# Assignment Nine\n",
    "\n",
    "### Due Wednesday April 24th"
   ]
  },
  {
   "cell_type": "code",
   "execution_count": 1,
   "metadata": {},
   "outputs": [],
   "source": [
    "import numpy as np\n",
    "import matplotlib.pyplot as plt\n",
    "%matplotlib inline\n",
    "import math"
   ]
  },
  {
   "cell_type": "markdown",
   "metadata": {},
   "source": [
    "**Problem 1** : (10 pts) The equation\n",
    "$$\n",
    "f(x) = \\int_{0}^{x}\\frac{1}{\\sqrt{2\\pi}}e^{-t^{2}/2} dt = .45, \n",
    "$$\n",
    "can be solved via Newton's Method.  Using the Fundamental Theorem of Calculus, we readily get that \n",
    "$$\n",
    "f'(x) = \\frac{1}{\\sqrt{2\\pi}}e^{-x^{2}/2}.\n",
    "$$\n",
    "Then we just need a way of approximating the integral in order to evaluate \n",
    "$$\n",
    "f(x) - .45.  \n",
    "$$\n",
    "Use the Trapezoid Method to find the integral and thus the function $f(x)$.  Starting from an initial guess $x_{0} = .5$, what is an approximation to the root $x_{\\ast}$ such that $f(x_{\\ast})=.45$?  How does your approximation to the root change as you change mesh size of the Trapezoid Method?  "
   ]
  },
  {
   "cell_type": "code",
   "execution_count": 2,
   "metadata": {},
   "outputs": [],
   "source": [
    "def trapezoid_method(a,b,N,f):\n",
    "    Nint = int(N)\n",
    "    xvals = np.linspace(a,b,Nint+1)\n",
    "    fvals = f(xvals)\n",
    "    dx = (b-a)/N\n",
    "    return dx/2.*(fvals[0] + fvals[Nint] + 2.*np.sum(fvals[1:Nint]))"
   ]
  },
  {
   "cell_type": "code",
   "execution_count": 3,
   "metadata": {},
   "outputs": [],
   "source": [
    "f = lambda x: (1./np.sqrt(2.*np.pi))*(np.e**((-x**2)/2))\n",
    "mesh1 = lambda x: trapezoid_method(0., x, 1e2, f)-.45\n",
    "mesh2 = lambda x: trapezoid_method(0., x, 1e3, f)-.45\n",
    "mesh3 = lambda x: trapezoid_method(0., x, 1e4, f)-.45\n",
    "mesh4 = lambda x: trapezoid_method(0., x, 1e5, f)-.45"
   ]
  },
  {
   "cell_type": "code",
   "execution_count": 4,
   "metadata": {},
   "outputs": [],
   "source": [
    "def Newtons_method(f,fp,x0,tol):\n",
    "    x1 = x0 - f(x0)/fp(x0)\n",
    "    \n",
    "    while np.abs(x1-x0):\n",
    "        x0 = x1\n",
    "        x1 = x0 - f(x0)/fp(x0)\n",
    "        \n",
    "    print \"A root of f(x) is: %1.15f\" %x1"
   ]
  },
  {
   "cell_type": "code",
   "execution_count": 5,
   "metadata": {},
   "outputs": [
    {
     "name": "stdout",
     "output_type": "stream",
     "text": [
      "A root of f(x) is: 1.644890713569378\n",
      "A root of f(x) is: 1.644853997803529\n",
      "A root of f(x) is: 1.644853630659992\n",
      "A root of f(x) is: 1.644853626988558\n"
     ]
    }
   ],
   "source": [
    "Newtons_method(mesh1, f, .5, 1e-4)\n",
    "Newtons_method(mesh2, f, .5, 1e-4)\n",
    "Newtons_method(mesh3, f, .5, 1e-4)\n",
    "Newtons_method(mesh4, f, .5, 1e-4)"
   ]
  },
  {
   "cell_type": "markdown",
   "metadata": {},
   "source": [
    "**Problem 2**: (10 pts) A particle of mass $m$ moving through a fluid is subjected to viscous resistance $R(v)$, where $v$ is the particle's velocity.  Suppose that relationship between the resistance $R$, velocity $v$, and the time of travel is given by \n",
    "$$\n",
    "t = \\int_{v_{0}}^{v(t)} \\frac{m}{R(u)} du, \n",
    "$$\n",
    "where $v_{0} = v(0)$ is the intial velocity of the particle.  Now suppose that \n",
    "$$\n",
    "R(v) = -R_{\\infty}\\left(\\frac{2}{1 + e^{-v^2/v_{c}^{2}}}-1\\right).\n",
    "$$\n",
    "For a particle of mass $m=1 ~kg$ (kilograms), with $v_{0}=10 ~m/s$ (meters/second), and $v_{c} = 2 ~m/s$ and $R_{\\infty} = 3 ~kg ~m/s^{2}$, using the Trapezoid Method, find the approximate time necessary for the particle to slow to $v(t) = 5 ~ m/s$."
   ]
  },
  {
   "cell_type": "code",
   "execution_count": 6,
   "metadata": {},
   "outputs": [],
   "source": [
    "def trapezoid_method(a,b,N,f):\n",
    "    Nint = int(N)\n",
    "    xvals = np.linspace(a,b,Nint+1)\n",
    "    fvals = f(xvals)\n",
    "    dx = (b-a)/N\n",
    "    return dx/2.*(fvals[0] + fvals[Nint] + 2.*np.sum(fvals[1:Nint]))"
   ]
  },
  {
   "cell_type": "code",
   "execution_count": 7,
   "metadata": {},
   "outputs": [],
   "source": [
    "def f(xvals):\n",
    "    fvals = 1./((-3.*(2./(1+np.exp((-(xvals)**2)/4.))-1.)))\n",
    "    return fvals"
   ]
  },
  {
   "cell_type": "code",
   "execution_count": 8,
   "metadata": {},
   "outputs": [
    {
     "data": {
      "text/plain": [
       "1.667148022151228"
      ]
     },
     "execution_count": 8,
     "metadata": {},
     "output_type": "execute_result"
    }
   ],
   "source": [
    "trapezoid_method(10., 5., 1000., f)"
   ]
  },
  {
   "cell_type": "markdown",
   "metadata": {},
   "source": [
    "**Problem 3**: 10 pts - Write a program (see the Lecture 8 notes for help) which takes in a number and converts it into its base\n",
    "“b” expansion for up to base 16 (6 pts). In other words, if I give you some\n",
    "number, say x, find the expansion\n",
    "$$\n",
    "x = \\mbox{sgn}(x)\\sum_{j=−m}^{n} t_j b^j, ~0 ≤ t_j ≤ b − 1.\n",
    "$$\n",
    "\n",
    "Briefly explain your reasoning behind you code. (2 pts) \n",
    "\n",
    "Compare the representations of .1 in base 3, 8, and 16. Comment on any interesting patterns that you observe. (2 pts) \n",
    "\n",
    "Note, for bases 11-16, follow hexadecimal conventions, which means instead of using numbers above 9, you use letters in the following fashion:\n",
    "\\begin{array}{ccc}\n",
    "10 & = & A\\\\\n",
    "11 & = & B\\\\\n",
    "12 & = & C\\\\\n",
    "13 & = & D\\\\\n",
    "14 & = & E\\\\\n",
    "15 & = & F\n",
    "\\end{array}"
   ]
  },
  {
   "cell_type": "code",
   "execution_count": 9,
   "metadata": {},
   "outputs": [],
   "source": [
    "#3. \n",
    "def num_to_base_int(d, base): #INTEGERS ONLY!!\n",
    "    bstr = ''\n",
    "    while d > 0: \n",
    "        b0 = d%base\n",
    "        d = (d-b0)/base\n",
    "        if b0 == 0:\n",
    "            bstr += '0'\n",
    "        elif b0 == 1:\n",
    "            bstr += '1'\n",
    "        elif b0 == 2:\n",
    "            bstr += '2'\n",
    "        elif b0 == 3:\n",
    "            bstr += '3'\n",
    "        elif b0 == 4:\n",
    "            bstr += '4'\n",
    "        elif b0 == 5:\n",
    "            bstr += '5'\n",
    "        elif b0 == 6:\n",
    "            bstr += '6'\n",
    "        elif b0 == 7:\n",
    "            bstr += '7'\n",
    "        elif b0 == 8:\n",
    "            bstr += '8'\n",
    "        elif b0 == 9:\n",
    "            bstr += '9'\n",
    "        elif b0 == 10:\n",
    "            bstr += 'A'\n",
    "        elif b0 == 11:\n",
    "            bstr += 'B'\n",
    "        elif b0 == 12:\n",
    "            bstr += 'C'\n",
    "        elif b0 == 13:\n",
    "            bstr += 'D'\n",
    "        elif b0 == 14:\n",
    "            bstr += 'E'\n",
    "        elif b0 == 15:\n",
    "            bstr += 'F'\n",
    "        \n",
    "    return bstr[::-1]"
   ]
  },
  {
   "cell_type": "code",
   "execution_count": 10,
   "metadata": {},
   "outputs": [],
   "source": [
    "#3. - Continued\n",
    "def num_to_base_dec(d, base): #DECIMALS ONLY!! \n",
    "    bstr=''\n",
    "    cnt = 0\n",
    "    while cnt <= 13:\n",
    "        d *= base\n",
    "        if d >= 15.:\n",
    "            b1 = 15.\n",
    "            bstr += 'F'\n",
    "        elif d >= 14.:\n",
    "            b1 = 14.\n",
    "            bstr += 'E'\n",
    "        elif d >= 13.:\n",
    "            b1 = 13.\n",
    "            bstr += 'D'\n",
    "        elif d >= 12.:\n",
    "            b1 = 12.\n",
    "            bstr += 'C'\n",
    "        elif d >= 11.:\n",
    "            b1 = 11.\n",
    "            bstr += 'B'\n",
    "        elif d >= 10.:\n",
    "            b1 = 10.\n",
    "            bstr += 'A'\n",
    "        elif d >= 9.:\n",
    "            b1 = 9.\n",
    "            bstr += '9'\n",
    "        elif d >= 8.:\n",
    "            b1 = 8.\n",
    "            bstr += '8'\n",
    "        elif d >= 7.:\n",
    "            b1 = 7.\n",
    "            bstr += '7'\n",
    "        elif d >= 6.:\n",
    "            b1 = 6.\n",
    "            bstr += '6'\n",
    "        elif d >= 5.:\n",
    "            b1 = 5.\n",
    "            bstr += '5'\n",
    "        elif d >= 4.:\n",
    "            b1 = 4.\n",
    "            bstr += '4'\n",
    "        elif d >= 3.:\n",
    "            b1 = 3.\n",
    "            bstr += '3'\n",
    "        elif d >= 2.:\n",
    "            b1 = 2.\n",
    "            bstr += '2'\n",
    "        elif d >= 1.:\n",
    "            b1 = 1.\n",
    "            bstr += '1'\n",
    "        else:\n",
    "            b1 = 0.\n",
    "            bstr += '0'\n",
    "        d -= b1    \n",
    "        cnt += 1\n",
    "        \n",
    "    return bstr "
   ]
  },
  {
   "cell_type": "code",
   "execution_count": 11,
   "metadata": {},
   "outputs": [],
   "source": [
    "#3. - Continued\n",
    "def num_to_base_real_num(num, base): #ANY REAL NUMBER! #Enter a number and desired base to convert it to.\n",
    "    integer, decimal = divmod(num, 1) #integer, decimal = divmod(5.55, 1) --> integer = 5. , decimal = .55 \n",
    "    return num_to_base_int(integer, base) + str(\".\") + num_to_base_dec(decimal, base)"
   ]
  },
  {
   "cell_type": "code",
   "execution_count": 12,
   "metadata": {},
   "outputs": [
    {
     "name": "stdout",
     "output_type": "stream",
     "text": [
      ".00220022002200\n",
      ".06314631463146\n",
      ".1999999999999A\n",
      "1100.11100000000000\n"
     ]
    }
   ],
   "source": [
    "#3. - Continued (Tests)\n",
    "print num_to_base_real_num(.1, 3)\n",
    "print num_to_base_real_num(.1, 8)\n",
    "print num_to_base_real_num(.1, 16)\n",
    "print num_to_base_real_num(12.875, 2)"
   ]
  },
  {
   "cell_type": "code",
   "execution_count": null,
   "metadata": {},
   "outputs": [],
   "source": []
  }
 ],
 "metadata": {
  "kernelspec": {
   "display_name": "Python 2",
   "language": "python",
   "name": "python2"
  },
  "language_info": {
   "codemirror_mode": {
    "name": "ipython",
    "version": 2
   },
   "file_extension": ".py",
   "mimetype": "text/x-python",
   "name": "python",
   "nbconvert_exporter": "python",
   "pygments_lexer": "ipython2",
   "version": "2.7.15"
  }
 },
 "nbformat": 4,
 "nbformat_minor": 2
}
