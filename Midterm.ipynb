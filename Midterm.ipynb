{
 "cells": [
  {
   "cell_type": "markdown",
   "metadata": {},
   "source": [
    "# Midterm Exam\n",
    "## Due Thursday, March 21st"
   ]
  },
  {
   "cell_type": "code",
   "execution_count": 1,
   "metadata": {},
   "outputs": [],
   "source": [
    "import numpy as np\n",
    "import matplotlib.pyplot as plt\n",
    "%matplotlib inline"
   ]
  },
  {
   "cell_type": "markdown",
   "metadata": {},
   "source": [
    "** Problem 1 **: 15pts - Given the function\n",
    "\n",
    "$$\n",
    "y(x) = \\sin^{3}(x),\n",
    "$$\n",
    "\n",
    "1a) 6pts - Use \n",
    "\n",
    "$$\n",
    "\\sin^{2}(x) = \\frac{1 - \\cos(2x)}{2},\n",
    "$$ \n",
    "\n",
    "since $\\sin^{3}(x) = \\sin(x)\\sin^{2}(x)$, and \n",
    "\n",
    "$$\n",
    "\\sin(x)\\cos(2x) = \\frac{1}{2}\\left(\\sin(3x) - \\sin(x)\\right)\n",
    "$$\n",
    "\n",
    "to find a Taylor series around $x_{0}=0$ of $\\sin^{3}(x)$.  \n",
    "\n",
    "1b) 6pts - In Python, develop a tolerance based, recursive, vectorized implementation of this function.  \n",
    "\n",
    "1c) 3pts - Plot this function on the interval $[0,\\pi]$.  Provide log plots of the error in your approximation for tolerance values $10^{-2}$, $10^{-4}$, and $10^{-8}$.  Comment on the behavior of your approximations for increasing values of $x$ and for decreasing tolerances.  Note graphs should be well labeled, with legends, and well sized.  "
   ]
  },
  {
   "cell_type": "markdown",
   "metadata": {},
   "source": [
    "_ Answer to Problem 1 _"
   ]
  },
  {
   "cell_type": "markdown",
   "metadata": {},
   "source": [
    "1a. \n",
    " \n",
    "$$\n",
    "\\begin{align}\n",
    "& f(x) = \\sin^{3}(x) = \\sin(x)\\sin^{2}(x) \\\\\n",
    "& = \\sin(x)\\Big(\\frac{1-\\cos(2x)}{2}\\Big) \\\\\n",
    "& = \\frac{1}{2}\\Big[\\sin(x)\\big(1-\\cos(2x)\\big)\\Big] \\\\\n",
    "& = \\frac{1}{2}\\Big[\\sin(x)-\\sin(x)\\cos(2x)\\Big] \\\\\n",
    "& = \\frac{1}{2}\\Big[\\sin(x)-\\frac{1}{2}\\big(\\sin(3x)-\\sin(x)\\big)\\Big] \\\\\n",
    "& = \\frac{1}{2}\\Big[\\frac{3}{2}\\sin(x)-\\frac{1}{2}\\sin(3x)\\Big] \\\\\n",
    "& = \\frac{3}{4}\\sin(x) - \\frac{1}{4}\\sin(3x) \\\\\n",
    "\\end{align}\n",
    "$$\n",
    "\n",
    "$$\n",
    "T(x;x_{0}=0) = f(0) + f'(0)\\frac{(x-0)}{1!} + f''(0)\\frac{(x-0)^{2}}{2!} + ...\n",
    "$$\n",
    "\n",
    "$$\n",
    "\\begin{align}\n",
    "& f(x) = \\frac{3}{4}\\sin(x) - \\frac{1}{4}\\sin(3x) \\implies f(0) = 0 \\\\\n",
    "& f'(x) = \\frac{3}{4}\\cos(x) - \\frac{3}{4}\\cos(3x) \\implies f'(0) = 0 \\\\\n",
    "& f''(x) = -\\frac{3}{4}\\sin(x) + \\frac{9}{4}\\sin(3x) \\implies f'(0) = 0\\\\\n",
    "& f'''(x) = -\\frac{3}{4}\\cos(x) + \\frac{27}{4}\\cos(3x) \\implies f'''(0) = 6\\\\\n",
    "& f^{4}(x) = \\frac{3}{4}\\sin(x) - \\frac{81}{4}\\sin(3x) \\implies f^{4}(0) = 0\\\\\n",
    "& f^{5}(x) = \\frac{3}{4}\\cos(x) - \\frac{243}{4}\\cos(3x) \\implies f^{5}(0) = -60\\\\\n",
    "& f^{6}(x) = -\\frac{3}{4}\\sin(x) + \\frac{729}{4}\\sin(3x) \\implies f^{6}(0) = 0\\\\\n",
    "& f^{7}(x) = -\\frac{3}{4}\\cos(x) + \\frac{2187}{4}\\cos(3x) \\implies f^{7}(0) = 546\\\\\n",
    "& f^{8}(x) = \\frac{3}{4}\\sin(x) - \\frac{6561}{4}\\sin(3x) \\implies f^{8}(0) = 0\\\\\n",
    "& f^{8}(x) = \\frac{3}{4}\\cos(x) - \\frac{19683}{4}\\cos(3x) \\implies f^{9}(0) = -4920\\\\\n",
    "\\end{align}\n",
    "$$\n",
    "\n",
    "$$\n",
    "\\begin{align}\n",
    "& T(x;x_{0}=0) = \\frac{f^{3}(0)}{3!}x^{3} + \\frac{f^{5}(0)}{5!}x^{5} + \\frac{f^{7}(0)}{7!}x^{7} + \\frac{f^{9}(0)}{9!}x^{9} + ... \\\\\n",
    "& = \\frac{6}{3!}x^{3} - \\frac{60}{5!}x^{5} + \\frac{546}{7!}x^{7} - \\frac{4920}{9!}x^{9} + ...\\\\\n",
    "\\end{align}\n",
    "$$\n",
    "\n",
    "$$\n",
    "\\begin{align}\n",
    "& \\sin^{3}(x) = \\frac{3}{4}\\sin(x) - \\frac{1}{4}\\sin(3x) \\\\\n",
    "& = \\frac{3}{4}\\sum_{n=0}^{\\infty} \\frac{(-1)^{n}x^{2n+1}}{(2n+1)!} - \\frac{1}{4}\\sum_{n=0}^{\\infty}\\frac{(-1)(3x)^{2n+1}}{(2n+1)!}\\\\\n",
    "\\end{align}\n",
    "$$"
   ]
  },
  {
   "cell_type": "code",
   "execution_count": 2,
   "metadata": {},
   "outputs": [],
   "source": [
    "#1b. - Functions\n",
    "def taylor_approximation_of_sin_x(x, tol): #sin(x)\n",
    "    an = np.array(x) #when n = 0\n",
    "    total = np.array(x) #when n = 0\n",
    "    n = 1.\n",
    "    x_squared = x**2\n",
    "    while (np.max(np.abs(an))) > tol:\n",
    "        an *= -x_squared/((2.*n+1)*(2.*n))\n",
    "        total += an\n",
    "        n +=1\n",
    "    return total\n",
    "\n",
    "def taylor_approximation_of_sin_3x(x, tol): #sin^(3x)\n",
    "    an = np.array(3*x) #When n = 0\n",
    "    total = np.array(3*x) #When n = 0\n",
    "    n = 1.\n",
    "    x_squared = x**2\n",
    "    while (np.max(np.abs(an)))>tol:\n",
    "        an *= -9*x_squared/((2.*n+1)*(2.*n))\n",
    "        total += an\n",
    "        n +=1\n",
    "    return total"
   ]
  },
  {
   "cell_type": "code",
   "execution_count": 3,
   "metadata": {},
   "outputs": [
    {
     "data": {
      "text/plain": [
       "<matplotlib.legend.Legend at 0x11d7cdd10>"
      ]
     },
     "execution_count": 3,
     "metadata": {},
     "output_type": "execute_result"
    },
    {
     "data": {
      "image/png": "[encoded data removed]",
      "text/plain": [
       "<Figure size 432x288 with 1 Axes>"
      ]
     },
     "metadata": {
      "needs_background": "light"
     },
     "output_type": "display_data"
    }
   ],
   "source": [
    "#1b. - Continued (Plotted Graph of Taylor Approx of sin^{3}(x))\n",
    "xvals = np.linspace(0, np.pi, int(1e5))\n",
    "\n",
    "a = (3./4.) #constants\n",
    "b = (1./4.) #constants\n",
    "\n",
    "yvals = a*taylor_approximation_of_sin_x(xvals, 1e-4)-b*taylor_approximation_of_sin_3x(xvals, 1e-4)\n",
    "\n",
    "plt.plot(xvals, (np.sin(xvals)**3), color = 'g', ls = '-', label = '$sin^{3}(x)$ [True]')\n",
    "plt.plot(xvals,yvals, color = 'b', ls ='-', label = '$sin^{3}(x)$ [Taylor]')\n",
    "\n",
    "plt.title('Taylor Series Approximation for $sin^{3}(x)$')\n",
    "plt.xlabel('$x$')\n",
    "plt.ylabel('$y$')\n",
    "plt.legend()"
   ]
  },
  {
   "cell_type": "code",
   "execution_count": 4,
   "metadata": {},
   "outputs": [
    {
     "data": {
      "text/plain": [
       "<matplotlib.legend.Legend at 0x11d7cdc50>"
      ]
     },
     "execution_count": 4,
     "metadata": {},
     "output_type": "execute_result"
    },
    {
     "data": {
      "image/png": "[encoded data removed]",
      "text/plain": [
       "<Figure size 432x288 with 1 Axes>"
      ]
     },
     "metadata": {
      "needs_background": "light"
     },
     "output_type": "display_data"
    }
   ],
   "source": [
    "#1c. - Plotted Log Errors for sin^{3}(x)\n",
    "xvals = np.linspace(0, np.pi, int(1e5))\n",
    "TRUEyvals = (3./4.)*np.sin(xvals)-(1./4.)*np.sin(3*xvals)\n",
    "a = (3./4.) #constants\n",
    "b = (1./4.) #constants\n",
    "\n",
    "yvals1 = a*taylor_approximation_of_sin_x(xvals, 1e-2)-b*taylor_approximation_of_sin_3x(xvals, 1e-2)\n",
    "yvals2 = a*taylor_approximation_of_sin_x(xvals, 1e-4)-b*taylor_approximation_of_sin_3x(xvals, 1e-4)\n",
    "yvals3 = a*taylor_approximation_of_sin_x(xvals, 1e-8)-b*taylor_approximation_of_sin_3x(xvals, 1e-8)\n",
    "\n",
    "error1 = np.ma.log10(np.abs(TRUEyvals-yvals1))\n",
    "error2 = np.ma.log10(np.abs(TRUEyvals-yvals2))\n",
    "error3 = np.ma.log10(np.abs(TRUEyvals-yvals3))\n",
    "\n",
    "plt.plot(xvals, error1, color = 'b', ls = '-', label = '1e-2')\n",
    "plt.plot(xvals, error2, color = 'g', ls = '-', label = '1e-4')\n",
    "plt.plot(xvals, error3, color = 'r', ls = '-', label = '1e-8')\n",
    "\n",
    "plt.title('Log Errors of $10^{-2}, 10^{-4}$, and $10^{-8}$ for $sin^{3}(x)$')\n",
    "plt.xlabel('$x$')\n",
    "plt.ylabel('$\\log_{10}|Error|$')\n",
    "plt.legend()\n",
    "\n",
    "#It appears that the red line (1e-8) appears to be \"fuzzy\" and that all three lines shy away\n",
    "#from eachother on [1, 2] and statrt to approach eachother on [2.5, ...]"
   ]
  },
  {
   "cell_type": "markdown",
   "metadata": {},
   "source": [
    "** Problem 2 **: 8pts - Find the first 40 terms of a sequence defined by\n",
    "\n",
    "2a) 6pts\n",
    "\n",
    "$$\n",
    "a_{n+1} = \\left\\{\n",
    "\\begin{array}{rl}\n",
    "\\frac{1}{2} a_{n} & \\text{if} ~ a_{n} ~ \\text{is an even number} \\\\\n",
    "3a_{n} + 1 & \\text{if} ~ a_{n} ~ \\text{is an odd number}\n",
    "\\end{array}\n",
    "\\right.\n",
    "$$\n",
    "\n",
    "and $a_1 = 11$"
   ]
  },
  {
   "cell_type": "markdown",
   "metadata": {},
   "source": [
    "2b) 2pts\n",
    "\n",
    "Do the same for $a_1 = 25$. Make a conjecture about this type of sequence."
   ]
  },
  {
   "cell_type": "markdown",
   "metadata": {},
   "source": [
    "_ Answer to Problem 2 _"
   ]
  },
  {
   "cell_type": "markdown",
   "metadata": {},
   "source": [
    "$$\n",
    "\\begin{align}\n",
    "& n=0: a_{0+1} = a_{1} = 11 \\\\\n",
    "& n=1: a_{1} = 11 \\implies a_{n+1} = 3a_{n}+1 \\implies a_{1+1} = 3a_{1}+1 \\implies a_{2} = 3(11) + 1 = 34 \\implies a_{2} = 34\\\\\n",
    "& n=2: a_{2} = 34 \\implies a_{n+1} = \\frac{1}{2}a_{n} \\implies a_{2+1} = \\frac{1}{2}a_{2} \\implies a_{3} = \\frac{1}{3}(34) \\implies a_{3} = 17 \\\\\n",
    "\\end{align}\n",
    "$$"
   ]
  },
  {
   "cell_type": "code",
   "execution_count": 5,
   "metadata": {},
   "outputs": [],
   "source": [
    "#2a. \n",
    "def general_sequence(startingVal, n): \n",
    "    #user must enter starting point and the endpoint\n",
    "    a = np.ones(n)\n",
    "    a[0] = startingVal\n",
    "    for i in xrange(1, n): \n",
    "    # a[i-1] = previous element, a[i] = current(or next) element\n",
    "        if a[i-1] % 2 == 0:       \n",
    "            a[i] = (1./2.)*a[i-1]   \n",
    "        elif a[i-1] % 2 != 0:\n",
    "            a[i] = 3.*a[i-1] + 1.\n",
    "    # i = 0: a[0] = 11\n",
    "    # i = 1: a[1-1] = a[0] = 11 --> a[1] = 3*(11) + 1 = 34\n",
    "    # i = 2: a[2-1] = a[1] = 34 --> a[2] = (1/2)*34 = 17\n",
    "    # i = 3: a[3-1] = a[2] = 17 --> a[3] = 3*(17) + 1 = 52\n",
    "    # .\n",
    "    # .\n",
    "    # .\n",
    "    # i = i: a[i-1] = EVEN --> a[i] = (1/2)*a[i-1]\n",
    "    # OR!\n",
    "    # i = 1: a[i-1] = ODD --> a[i] = 3*a[i-1] + 1\n",
    "    return a"
   ]
  },
  {
   "cell_type": "code",
   "execution_count": 6,
   "metadata": {},
   "outputs": [
    {
     "data": {
      "text/plain": [
       "array([11., 34., 17., 52., 26., 13., 40., 20., 10.,  5., 16.,  8.,  4.,\n",
       "        2.,  1.,  4.,  2.,  1.,  4.,  2.,  1.,  4.,  2.,  1.,  4.,  2.,\n",
       "        1.,  4.,  2.,  1.,  4.,  2.,  1.,  4.,  2.,  1.,  4.,  2.,  1.,\n",
       "        4.])"
      ]
     },
     "execution_count": 6,
     "metadata": {},
     "output_type": "execute_result"
    }
   ],
   "source": [
    "#2a. - Continued\n",
    "general_sequence(11, 40)"
   ]
  },
  {
   "cell_type": "code",
   "execution_count": 7,
   "metadata": {},
   "outputs": [
    {
     "data": {
      "text/plain": [
       "array([25., 76., 38., 19., 58., 29., 88., 44., 22., 11., 34., 17., 52.,\n",
       "       26., 13., 40., 20., 10.,  5., 16.,  8.,  4.,  2.,  1.,  4.,  2.,\n",
       "        1.,  4.,  2.,  1.,  4.,  2.,  1.,  4.,  2.,  1.,  4.,  2.,  1.,\n",
       "        4.])"
      ]
     },
     "execution_count": 7,
     "metadata": {},
     "output_type": "execute_result"
    }
   ],
   "source": [
    "#2b. \n",
    "general_sequence(25, 40)"
   ]
  },
  {
   "cell_type": "code",
   "execution_count": 8,
   "metadata": {},
   "outputs": [],
   "source": [
    "#2b - Continued (Comments)\n",
    "#It appears that the sequences presents a pattern of [4, 2, 1, 4, 2, 1, ...]\n",
    "#For a_{1} = 11, it looks like that the pattern starts at element 12\n",
    "#For a_{1} = 25, it looks like that the pattern starts at 21"
   ]
  },
  {
   "cell_type": "markdown",
   "metadata": {},
   "source": [
    "** Problem 3 **: 12pts - Given the following sum\n",
    "\n",
    "\n",
    "$$\n",
    "y(n) =  \\sum_{n=0}^{\\infty} \\frac{(-1)^{n}\\pi^{2n+1}}{4^{2n+1}(2n+1)!}\n",
    "$$\n",
    "\n",
    "3a) 3pts - Determine a recurrence relation between the coefficients.\n",
    "\n",
    "3b) 5pts - In Python, develop a tolerance based, recursive, vectorized implementation of this sum and find the limit as $n\\rightarrow \\infty$ of the function $y(n)$. Provide a plot to support your answer (for tolerance $10^{-4}$ and $10^{-8}$). \n",
    " \n",
    "\n",
    "3d) 4pts -  For the recurrence relation\n",
    "\n",
    "$$\n",
    "p_{n} = 3p_{n-1} + p_{n-2}, ~ n\\geq 2, \n",
    "$$\n",
    "\n",
    "where \n",
    "\n",
    "$$\n",
    "p_{0}= 0, ~ p_{1}=1, \n",
    "$$\n",
    "\n",
    "plot $p_{n}$ for $0\\leq n \\leq 15$?"
   ]
  },
  {
   "cell_type": "markdown",
   "metadata": {},
   "source": [
    "\n",
    "_ Answer to Problem 3 _"
   ]
  },
  {
   "cell_type": "markdown",
   "metadata": {},
   "source": [
    "3a.\n",
    "$$\n",
    "\\begin{align}\n",
    "& a_{n} = \\frac{(-1)^{n}\\pi^{2n+1}}{4^{2n+1}(2n+1)!} \\\\\n",
    "& a_{n-1} = \\frac{(-1)^{n-1}\\pi^{2(n-1)+1}}{4^{2(n-1)+1}(2(n-1)+1)!} = \\frac{(-1)^{n-1}\\pi^{2n-1}}{4^{2n-1}(2n-1)!} \\\\\n",
    "& \\frac{a_{n}}{a_{n-1}} = \\frac{(-1)^{n}\\pi^{2n+1}}{4^{2n+1}(2n+1)!} \\frac{(-1)^{n-1}\\pi^{2n-1}}{4^{2n-1}(2n-1)!} = \\frac{\\pi^{1}\\pi^{1}(-1)^{-1}}{4^{1}4^{1}(2n+1)(2n)} = \\frac{-\\pi^{2}}{16(2n+1)(2n)}\\\\\n",
    "& \\implies a_{n} = \\frac{-\\pi^{2}a_{n-1}}{16(2n+1)(2n)}\\\\\n",
    "& \\implies a_{n} = \\left\\{\\begin{array}{rl}  \n",
    "\\frac{-\\pi^{2}a_{n-1}}{16(2n+1)(2n)}, & n\\geq 1, \\\\ \n",
    "\\frac{\\pi}{4}, & n=0.\n",
    "\\end{array}\\right.\n",
    "\\end{align}\n",
    "$$"
   ]
  },
  {
   "cell_type": "code",
   "execution_count": 9,
   "metadata": {},
   "outputs": [],
   "source": [
    "#3b. - Function\n",
    "def summation_of_y(n, tol):\n",
    "    pi = np.pi #When n = 0\n",
    "    an = pi/4. #When n = 0 \n",
    "    total = pi/4.\n",
    "    #counter = 1 \n",
    "    while (np.max(abs(an))) > tol:\n",
    "        an *= (-pi**2) / (16*(2*n+1)*(2*n))\n",
    "        total += an\n",
    "        #counter += 1\n",
    "    return total"
   ]
  },
  {
   "cell_type": "code",
   "execution_count": 10,
   "metadata": {},
   "outputs": [
    {
     "data": {
      "text/plain": [
       "<matplotlib.legend.Legend at 0x11deaaed0>"
      ]
     },
     "execution_count": 10,
     "metadata": {},
     "output_type": "execute_result"
    },
    {
     "data": {
      "image/png": "[encoded data removed]",
      "text/plain": [
       "<Figure size 432x288 with 1 Axes>"
      ]
     },
     "metadata": {
      "needs_background": "light"
     },
     "output_type": "display_data"
    }
   ],
   "source": [
    "#3b - Continued (Plotted Function)\n",
    "xvals = np.linspace(1, 100, int(1e5))\n",
    "yvals1 = summation_of_y(xvals, 1e-4)\n",
    "yvals2 = summation_of_y(xvals, 1e-8)\n",
    "\n",
    "plt.plot(xvals, yvals1, color = 'b', ls = '-', label = '1e-4')\n",
    "plt.plot(xvals, yvals2, color = 'g', ls = '-', label = '1e-8')\n",
    "\n",
    "plt.title('$\\lim_{n \\to \\infty} y(n)$')\n",
    "plt.xlabel('$n$')\n",
    "plt.ylabel('$y(n)$')\n",
    "plt.legend()"
   ]
  },
  {
   "cell_type": "code",
   "execution_count": 11,
   "metadata": {},
   "outputs": [],
   "source": [
    "#3c. - Recurrence Relation\n",
    "def reccurence_relation_of_p(n):    \n",
    "    p = np.ones(n+1)\n",
    "    p[0] = 0\n",
    "    p[1] = 1\n",
    "    for n in xrange(2, n+1):\n",
    "        p[n] = 3*p[n-1] + p[n-2]\n",
    "        #p[2] = 3*p[2-1] + p[2-2]\n",
    "        #     = 3*p[1] + p[0]\n",
    "        #     = 3*(1) + 0 \n",
    "        #     = 3\n",
    "        #p[3] = 3*p[3-1] + p[3-2]\n",
    "        #     = 3*p[2] + p[1]\n",
    "        #     = 3*(3) + 1 \n",
    "        #     = 10\n",
    "        #p[4] = 3*p[4-1] + p[4-2]\n",
    "        #     = 3*p[3] + p[2]\n",
    "        #     = 3*(10) + 13\n",
    "        #     = 33\n",
    "        # .\n",
    "        # .\n",
    "        # .\n",
    "        #p[n] = 3*p[n-1] + p[n-2]\n",
    "    return p"
   ]
  },
  {
   "cell_type": "code",
   "execution_count": 12,
   "metadata": {},
   "outputs": [
    {
     "data": {
      "text/plain": [
       "array([ 0.,  1.,  3., 10., 33.])"
      ]
     },
     "execution_count": 12,
     "metadata": {},
     "output_type": "execute_result"
    }
   ],
   "source": [
    "#3c.- Continued\n",
    "reccurence_relation_of_p(4)\n",
    "#reccurence_relation_of_p(15)"
   ]
  },
  {
   "cell_type": "code",
   "execution_count": 13,
   "metadata": {},
   "outputs": [
    {
     "data": {
      "text/plain": [
       "Text(0,0.5,'$P_{n}$')"
      ]
     },
     "execution_count": 13,
     "metadata": {},
     "output_type": "execute_result"
    },
    {
     "data": {
      "image/png": "[encoded data removed]",
      "text/plain": [
       "<Figure size 432x288 with 1 Axes>"
      ]
     },
     "metadata": {
      "needs_background": "light"
     },
     "output_type": "display_data"
    }
   ],
   "source": [
    "#3c. - Continued (Plotted Relation)\n",
    "plt.plot(reccurence_relation_of_p(15), color = 'b', ls = '-')\n",
    "\n",
    "plt.title('Grah of $P_{n}$ on 0$\\leq$$n$$\\leq$15 ')\n",
    "plt.xlabel('$n$')\n",
    "plt.ylabel('$P_{n}$')"
   ]
  },
  {
   "cell_type": "markdown",
   "metadata": {},
   "source": [
    "** Problem 4** 9pts: \n",
    "    \n",
    "4a) 4pts - Write a Python program to find the number $n$ that satisfies\n",
    "$$\n",
    " \\sum_{i=1}^{n} i = 78\n",
    "$$ \n",
    "   \n",
    "\n",
    "4b) 5pts - Using a **non-vectorization**, find the limit as $n\\rightarrow \\infty$ of the function $f(n)$ where  \n",
    "\n",
    "$$\n",
    "f(n) = \\sum_{j=1}^{n} \\frac{3}{n} \\left[ \\left(1 + \\frac{3j}{n}\\right)^{3} - 2\\left(1 + \\frac{3j}{n}\\right) \\right]\n",
    "$$\n",
    "\n",
    "Provide a plot to support your answer.  \n",
    "\n"
   ]
  },
  {
   "cell_type": "code",
   "execution_count": 14,
   "metadata": {},
   "outputs": [
    {
     "data": {
      "text/plain": [
       "12"
      ]
     },
     "execution_count": 14,
     "metadata": {},
     "output_type": "execute_result"
    }
   ],
   "source": [
    "#4a.\n",
    "def find_n(a): #user enters a numbner 'a' that represents the sum of i from j = 1 to n in order to find the value of n\n",
    "    total = 0\n",
    "    i = 1\n",
    "    while total < a: \n",
    "        #other test values besides 78 include: 1, 3, 6, 10, 15, 21, ...\n",
    "        total += i\n",
    "        i += 1\n",
    "        #i = 1: total = 0 + 1 = 1\n",
    "        #i = 2 : total = 1 + 2 = 3\n",
    "        #i = 3: total = 1 + 3 = 4\n",
    "        #.\n",
    "        #.\n",
    "        #.\n",
    "        #i = n: total = total + i\n",
    "        n = i-1\n",
    "    return n #returns the value of 'n' that satisfies the problem\n",
    "find_n(78) # a = 78"
   ]
  },
  {
   "cell_type": "code",
   "execution_count": 15,
   "metadata": {},
   "outputs": [],
   "source": [
    "#4b.\n",
    "def limit_of_f(n):\n",
    "    total = 0\n",
    "    n = n\n",
    "    for j in xrange(1, int(n)+1):\n",
    "        if total != 48.76:\n",
    "            firstChunk = (1+((3*j)/n))**3\n",
    "            secondChunk = 2*(1+((3*j)/n))\n",
    "            total += firstChunk - secondChunk\n",
    "    return (3/n)*total"
   ]
  },
  {
   "cell_type": "code",
   "execution_count": 16,
   "metadata": {},
   "outputs": [
    {
     "data": {
      "text/plain": [
       "Text(0,0.5,'$f(n)$')"
      ]
     },
     "execution_count": 16,
     "metadata": {},
     "output_type": "execute_result"
    },
    {
     "data": {
      "image/png": "[encoded data removed]",
      "text/plain": [
       "<Figure size 432x288 with 1 Axes>"
      ]
     },
     "metadata": {
      "needs_background": "light"
     },
     "output_type": "display_data"
    }
   ],
   "source": [
    "#4b - Continued (Plotted Function)\n",
    "xvals = np.linspace(1, 100, int(1e4))\n",
    "yvals = [limit_of_f(jj) for jj in xvals]\n",
    "\n",
    "plt.plot(xvals, yvals, color = 'b', ls = '-')\n",
    "\n",
    "plt.title('$\\lim_{n \\to \\infty} f(n)$')\n",
    "plt.xlabel('$n$')\n",
    "plt.ylabel('$f(n)$')"
   ]
  },
  {
   "cell_type": "markdown",
   "metadata": {},
   "source": [
    "** Problem 5** 6pts: We can generate a 3n+1 sequence as follows\n",
    "\n",
    "- Start with a positive integer n.\n",
    "\n",
    "- If n = 1, stop.\n",
    "\n",
    "- If n is even, replace it with n/2.\n",
    "\n",
    "- If n is odd, replace it with 3n+1.\n",
    "\n",
    "So if we started with $n=3$, then we would generate the sequence\n",
    "\n",
    "$$\n",
    "3, 10, 5, 16, 8, 4, 2, 1\n",
    "$$\n",
    "\n",
    "it is unknown whether there are any starting values $n$ which generate a sequence which goes on for forever.  Thus, an interesting associated quantity we would want to know is how many terms a given value of $n$ generates via the $3n+1$ sequence.  We call this number $L(n)$.  For example then, using our example of $n=3$ above, we have that \n",
    "\n",
    "$$\n",
    "L(3)  = 8\n",
    "$$\n",
    "\n",
    "Write a code to figure out how to find $L(n)$ and then generate a plot of $L(n)$ for $1\\leq n \\leq 1000$.  Discuss any trends you observe.  \n",
    "\n",
    "\n"
   ]
  },
  {
   "cell_type": "code",
   "execution_count": 17,
   "metadata": {},
   "outputs": [
    {
     "data": {
      "image/png": "[encoded data removed]",
      "text/plain": [
       "<Figure size 432x288 with 1 Axes>"
      ]
     },
     "metadata": {
      "needs_background": "light"
     },
     "output_type": "display_data"
    }
   ],
   "source": [
    "#5. \n",
    "def threeNplusOneSequence(n): # I am just using this as a reference and a guide for the solution of this problem.\n",
    "    n0 = n\n",
    "    tnp1 = np.array([n])\n",
    "    while n > 1:\n",
    "        if n%2==0:\n",
    "            n = n/2\n",
    "        else :\n",
    "            n = 3*n + 1\n",
    "        tnp1 = np.append(tnp1,n)\n",
    "    \n",
    "    nvals = range(1,tnp1.size+1)\n",
    "    plt.plot(nvals,tnp1)\n",
    "    plt.xlabel('n')\n",
    "    plt.title('3n+1 Sequence for Starting Integer: %d' %n0)\n",
    "threeNplusOneSequence(3)"
   ]
  },
  {
   "cell_type": "code",
   "execution_count": 18,
   "metadata": {},
   "outputs": [],
   "source": [
    "#5. - Continued\n",
    "def Ln_maker(n):    #This will generate the NUMBER OF TERMS via the 3n+1 sequence when the user inputs a value for n \n",
    "                    #into the function.\n",
    "    n0 = n\n",
    "    tnp1 = np.array([n])\n",
    "    while n > 1:\n",
    "        if n%2==0:\n",
    "            n = n/2\n",
    "        else :\n",
    "            n = 3*n + 1\n",
    "        tnp1 = np.append(tnp1,n)\n",
    "    \n",
    "    nvals = range(1,tnp1.size+1)\n",
    "    Ln = len(tnp1)\n",
    "    return Ln"
   ]
  },
  {
   "cell_type": "code",
   "execution_count": 19,
   "metadata": {},
   "outputs": [
    {
     "data": {
      "text/plain": [
       "8"
      ]
     },
     "execution_count": 19,
     "metadata": {},
     "output_type": "execute_result"
    }
   ],
   "source": [
    "#5. - Continued\n",
    "Ln_maker(3) #use this function to check if the 'n' value corresponds with the correct number of terms.\n",
    "            #use this to compare the 'n' values from the graphs below."
   ]
  },
  {
   "cell_type": "code",
   "execution_count": 20,
   "metadata": {},
   "outputs": [],
   "source": [
    "#5. - Continued\n",
    "def Ln_plotter(a, b): #user enters the end points for a <= n <= b\n",
    "    xvals = xrange(a, b+1)\n",
    "    yvals = [Ln_maker(jj) for jj in xvals]\n",
    "    #return yvals\n",
    "    plt.scatter(xvals, yvals, color = 'b', marker = 'o')\n",
    "    plt.xlabel('$n$')\n",
    "    plt.ylabel('$L(n)$')\n",
    "    plt.title('$L(n)$ for 1$\\leq$$n$$\\leq$ '+ `b`)"
   ]
  },
  {
   "cell_type": "code",
   "execution_count": 21,
   "metadata": {},
   "outputs": [],
   "source": [
    "#5. - Continued\n",
    "a = 1 #starting point\n",
    "b1 = 5  #test value\n",
    "b2 = 10 #test value\n",
    "b3 = 15 #test value\n",
    "b4 = 1000 #value from question 5."
   ]
  },
  {
   "cell_type": "code",
   "execution_count": 22,
   "metadata": {},
   "outputs": [
    {
     "data": {
      "image/png": "[encoded data removed]",
      "text/plain": [
       "<Figure size 432x288 with 1 Axes>"
      ]
     },
     "metadata": {
      "needs_background": "light"
     },
     "output_type": "display_data"
    }
   ],
   "source": [
    "#5. - Continued\n",
    "Ln_plotter(a, b1) #b1 = 5"
   ]
  },
  {
   "cell_type": "code",
   "execution_count": 23,
   "metadata": {},
   "outputs": [
    {
     "data": {
      "image/png": "[encoded data removed]",
      "text/plain": [
       "<Figure size 432x288 with 1 Axes>"
      ]
     },
     "metadata": {
      "needs_background": "light"
     },
     "output_type": "display_data"
    }
   ],
   "source": [
    "#5. - Continued\n",
    "Ln_plotter(a, b2) #b2 = 10"
   ]
  },
  {
   "cell_type": "code",
   "execution_count": 24,
   "metadata": {},
   "outputs": [
    {
     "data": {
      "image/png": "[encoded data removed]",
      "text/plain": [
       "<Figure size 432x288 with 1 Axes>"
      ]
     },
     "metadata": {
      "needs_background": "light"
     },
     "output_type": "display_data"
    }
   ],
   "source": [
    "#5. - Continued\n",
    "Ln_plotter(a, b3) #b3 = 15"
   ]
  },
  {
   "cell_type": "code",
   "execution_count": 25,
   "metadata": {},
   "outputs": [
    {
     "data": {
      "image/png": "[encoded data removed]",
      "text/plain": [
       "<Figure size 432x288 with 1 Axes>"
      ]
     },
     "metadata": {
      "needs_background": "light"
     },
     "output_type": "display_data"
    }
   ],
   "source": [
    "#5. - Continued\n",
    "Ln_plotter(a, b4) #b4 = 1000"
   ]
  },
  {
   "cell_type": "code",
   "execution_count": 26,
   "metadata": {},
   "outputs": [],
   "source": [
    "#5. - Continued (Comments)\n",
    "#It seems taht when I increase the invterval, the number of points plotted on the graph increase.\n",
    "#I decided to use a scatter plot, because it is much easier to read the graph.\n",
    "#It appears that the graph for L(n) for 1<=n<= 100 has a low-positive correlation. \n",
    "#The number of points are very dense(close together) in the bottom-left part of the graph."
   ]
  }
 ],
 "metadata": {
  "kernelspec": {
   "display_name": "Python 2",
   "language": "python",
   "name": "python2"
  },
  "language_info": {
   "codemirror_mode": {
    "name": "ipython",
    "version": 2
   },
   "file_extension": ".py",
   "mimetype": "text/x-python",
   "name": "python",
   "nbconvert_exporter": "python",
   "pygments_lexer": "ipython2",
   "version": "2.7.15"
  }
 },
 "nbformat": 4,
 "nbformat_minor": 2
}
