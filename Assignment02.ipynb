{
 "cells": [
  {
   "cell_type": "code",
   "execution_count": 1,
   "metadata": {},
   "outputs": [],
   "source": [
    "import numpy as np\n",
    "import matplotlib.pyplot as plt\n",
    "%matplotlib inline"
   ]
  },
  {
   "cell_type": "markdown",
   "metadata": {},
   "source": [
    "**Problem 1** - 4 pts each: Using the Taylor series, prove the identities.  For example, given that\n",
    "\n",
    "$$\n",
    "e^{x} = \\sum_{j=0}^{\\infty} \\frac{x^{j}}{j!}\n",
    "$$\n",
    "\n",
    "we can show that \n",
    "\n",
    "$$\n",
    "\\frac{d}{dx}e^{x} = e^{x}\n",
    "$$\n",
    "\n",
    "by seeing that \n",
    "\n",
    "\\begin{align}\n",
    "\\frac{d}{dx}e^{x} = & \\sum_{j=0}^{\\infty} \\frac{d}{dx} \\frac{x^{j}}{j!}\\\\\n",
    "= & \\sum_{j=1}^{\\infty} j\\frac{x^{j-1}}{j!}\\\\\n",
    "= & \\sum_{j=1}^{\\infty} \\frac{x^{j-1}}{(j-1)!}\\\\\n",
    "= & \\sum_{k=0}^{\\infty} \\frac{x^{k}}{k!}, ~ k = j-1\\\\\n",
    "= & e^{x}.\n",
    "\\end{align}\n",
    "\n",
    "Use the TeX provided in the problem statement to help provide the relevant details of your computations.  \n",
    "\n",
    "1a.  Using\n",
    "    $$\n",
    "    \\cos(x) = \\sum_{j=0}^{\\infty}\\frac{(-1)^{j}x^{2j}}{(2j)!}, ~ \\sin(x) = \\sum_{j=0}^{\\infty}\\frac{(-1)^{j}x^{2j+1}}{(2j+1)!}\n",
    "    $$\n",
    "    show that\n",
    "    $$\n",
    "    \\frac{d}{dx}\\cos(x) = -\\sin(x).\n",
    "    $$\n",
    "    \n",
    "1b. Using,\n",
    "    $$\n",
    "    \\frac{1}{1-t} = \\sum_{j=0}^{\\infty}t^{j}, ~ ~ |t|<1 ~ \\text{and} ~\n",
    "    \\ln(1+x) = \\int_{0}^{x}\\frac{dt}{1+t}, ~ ~ x \\in (-1,\\infty)\n",
    "    $$\n",
    "    show  that\n",
    "    $$\n",
    "    \\ln(1+x) = \\sum_{j=1}^{\\infty}(-1)^{j-1}\\frac{x^{j}}{j}.\n",
    "    $$\n",
    "    Remember, when we have convergence, we have \n",
    "    $$\n",
    "    \\int_{0}^{x} \\sum_{j=0}^{\\infty} f_{j}(t) dt = \\sum_{j=0}^{\\infty} \\int_{0}^{x} f_{j}(t)dt.\n",
    "    $$\n",
    "    "
   ]
  },
  {
   "cell_type": "markdown",
   "metadata": {},
   "source": [
    "_ Answers to Problem 1 _"
   ]
  },
  {
   "cell_type": "markdown",
   "metadata": {},
   "source": [
    "\n",
    "    _ 1a _\n",
    "\\begin{align}\n",
    "\\frac{d}{dx}\\cos(x) = & \\sum_{j=0}^{\\infty} \\frac{d}{dx} \\frac{(-1)^{j}{x}^{2j}}{(2j)!}\\\\\n",
    "= & \\sum_{j=1}^{\\infty} \\frac{(-1)^{j}}{(2j)!}(2j)(x)^{2j-1}\\\\\n",
    "= & \\sum_{j=1}^{\\infty} \\frac{(-1)^{j}(2j)(x)^{2j-1}}{(2j)(2j-1)!}\\\\\n",
    "= & \\sum_{j=1}^{\\infty} \\frac{(-1)^{j}(x)^{2j-1}}{(2j-1)!},\\\\\n",
    "= & \\sum_{k=0}^{\\infty} \\frac{(-1)^{k+1}(x)^{2k+1}}{(2k+1)!}, ~ k = j-1\\\\\n",
    "= & -1 \\sum_{k=0}^{\\infty} \\frac{(-1)^{k}(x)^{2k+1}}{(2k+1)!},\\\\\n",
    "= & -\\sin(x).\n",
    "\\end{align}"
   ]
  },
  {
   "cell_type": "markdown",
   "metadata": {},
   "source": [
    "    _ 1b _\n",
    "\\begin{align}\n",
    "\\int_{0}^{x} \\sum_{j=0}^{\\infty} (-t)^{j}{dt} = & \\sum_{j=0}^{\\infty}\\int_{0}^{x}(-t)^{j}{dt}\\\\\n",
    "= & -1 \\sum_{j=0}^{\\infty}\\int_{0}^{x}u^{j}du, ~u = -t, ~du = -1 dt\\\\\n",
    "& -1 \\int u^{j} du = -1\\left[ \\frac{u^{j+1}}{j+1} \\right] = -1\\left[ \\frac{(-t)^{j+1}}{j+1} \\right]\\\\\n",
    "& \\text{So,} ~-1 \\sum_{j=0}^{\\infty}\\int_{0}^{x}(-t)^{j}dt\\\\\n",
    "& = \\sum_{j=0}^{\\infty} -1\\left[ \\frac{(-t)^{j+1}}{j+1} \\right]_0^x\\\\\n",
    "& = \\sum_{j=0}^{\\infty} -1\\left[ \\frac{(-x)^{j+1}}{j+1} \\right]\\\\\n",
    "& = \\sum_{k=1}^{\\infty} \\frac{(-1)(-x)^{k}}{k}, ~k = j + 1\\\\\n",
    "& = \\sum_{k=1}^{\\infty} \\frac{(-1)(-1)^{k}(x)^{k}}{k}\\\\\n",
    "& = \\sum_{k=1}^{\\infty} \\frac{(-1)(-1)(-1)^{k-1}(x)^{k}}{k}\\\\\n",
    "& = \\sum_{k=1}^{\\infty} (-1)^{k-1} \\frac{x^{k}}{k}\\\\\n",
    "& = \\ln(1+x).\n",
    "\\end{align}"
   ]
  },
  {
   "cell_type": "markdown",
   "metadata": {},
   "source": [
    "** Problem 2 ** - 3 pts each: Find a relationship between the given coefficients.  By this we mean for example that if \n",
    "\n",
    "$$\n",
    "a_{j} = \\frac{1}{j!}, ~ j\\geq 0,\n",
    "$$\n",
    "\n",
    "then we have \n",
    "\n",
    "$$\n",
    "a_{j} = \\left\\{\\begin{array}{rl}  \n",
    "\\frac{a_{j-1}}{j}, & j\\geq 1, \\\\ \n",
    "1, & j=0.\n",
    "\\end{array}\\right.\n",
    "$$\n",
    "\n",
    "Note, the way to figure this out is to use the fact that if $a_{j} = 1/j!$ and $a_{j-1} = 1/(j-1)!$, then we can find the ratio of terms to be \n",
    "\n",
    "$$\n",
    "\\frac{a_{j}}{a_{j-1}} = \\frac{(j-1)!}{j!} = \\frac{1}{j}.\n",
    "$$\n",
    "\n",
    "2a. \n",
    "$$\n",
    "a_{j} = \\frac{1}{(j+1)!}, ~ j\\geq 0.\n",
    "$$\n",
    "\n",
    "\n",
    "2b. \n",
    "$$\n",
    "a_{j} = \\frac{9^{j}}{(2j+1)!}, ~ j\\geq 0.\n",
    "$$\n",
    "\n",
    "2c. \n",
    "$$\n",
    "a_{j}(x) = \\frac{x^{j}}{j!}, ~ j\\geq 0.\n",
    "$$\n",
    "\n",
    "2d.\n",
    "$$\n",
    "a_{j}(x) = \\frac{(-1)^{j} x^{2j}}{(2j)!}\n",
    "$$\n",
    "\n",
    "2e. For $n$ a positive integer\n",
    "$$\n",
    "a_{j}(x) = \\frac{1}{j!(n+j)!}\\left(\\frac{x}{2}\\right)^{2j}, ~ j\\geq 0.\n",
    "$$"
   ]
  },
  {
   "cell_type": "markdown",
   "metadata": {},
   "source": [
    "_ Answers to Problem 2 _"
   ]
  },
  {
   "cell_type": "markdown",
   "metadata": {},
   "source": [
    "    _ 2a _\n",
    "$$\n",
    "a_{j} = \\frac{1}{(j+1)!} = \\frac{1}{(j+1)(j)!}, ~j\\geq 0\n",
    "$$\n",
    "   \n",
    "$$\n",
    "a_{j-1} = \\frac{1}{((j-1)+1)!} = \\frac{1}{j!}, ~j\\geq 1\n",
    "$$\n",
    "   \n",
    "$$\n",
    "\\text{Then,} ~\\frac{a_j}{a_{j-1}} = \\frac{(j)!}{(j+1)(j)!} = \\frac{1}{j+1}\n",
    "$$\n",
    "   \n",
    "$$\n",
    "\\text{Which means that} ~a_j = \\frac{a_{j-1}}{j+1}\n",
    "$$\n",
    "\n",
    "$$\n",
    "\\text{Finally,} ~a_j = \\left\\{\\begin{array}{rl}  \n",
    "\\frac{a_{j-1}}{j+1}, & j\\geq 1, \\\\ \n",
    "1, & j=0.\n",
    "\\end{array}\\right.\n",
    "$$"
   ]
  },
  {
   "cell_type": "markdown",
   "metadata": {},
   "source": [
    "    _ 2b _\n",
    "$$\n",
    "a_{j} = \\frac{9^{j}}{(2j+1)!} = \\frac{9^{j}}{(2+1)(2j)(2j-1)(2j-2)!}, ~j\\geq 0\n",
    "$$\n",
    "\n",
    "$$\n",
    "a_{j-1} = \\frac{9^{j-1}}{(2j-1)(2j-2)!}, ~j\\geq 1\n",
    "$$\n",
    "\n",
    "$$\n",
    "\\text{Then,} ~\\frac{a_j}{a_{j-1}} = \\frac{9^{j}(2j-1)(2j-2)!}{9^{j-1}(2j+1)(2j)(2j-1)(2j-2)!} = \\frac{9}{(2j)(2j+1)}\n",
    "$$\n",
    " \n",
    "$$\n",
    "\\text{Which means that} ~a_j = \\frac{9a_{j-1}}{2j(2j+1)}\n",
    "$$\n",
    "\n",
    "$$\n",
    "\\text{Finally,} ~a_j = \\left\\{\\begin{array}{rl}  \n",
    "\\frac{9a_{j-1}}{2j(2j+1)}, & j\\geq 1, \\\\ \n",
    "1, & j=0.\n",
    "\\end{array}\\right.\n",
    "$$"
   ]
  },
  {
   "cell_type": "markdown",
   "metadata": {},
   "source": [
    "\n",
    "    _ 2c _\n",
    "$$\n",
    "a_{j}(x) = \\frac{x^{j}}{j!} = \\frac{x^{j}}{j(j-1)!}, ~j\\geq 0\n",
    "$$\n",
    "\n",
    "$$\n",
    "a_{j-1}(x) = \\frac{x^{j-1}}{(j-1)!}, ~j\\geq 1\n",
    "$$\n",
    "\n",
    "$$\n",
    "\\text{Then,} ~\\frac{a_{j}(x)}{a_{j-1}(x)} = \\frac{x^j}{j(j-1)!} \\frac{(j-1)!}{x^{j-1}} = \\frac{x}{j}\n",
    "$$\n",
    "\n",
    "\n",
    "$$\n",
    "\\text{Which means that} ~a_{j}(x) = \\frac{xa_{j-1}}{j}\n",
    "$$\n",
    "\n",
    "$$\n",
    "\\text{Finally,} ~a_{j}(x) = \\left\\{\\begin{array}{rl}  \n",
    "\\frac{xa_{j-1}}{j}, & j\\geq 1, \\\\ \n",
    "1, & j=0.\n",
    "\\end{array}\\right.\n",
    "$$"
   ]
  },
  {
   "cell_type": "markdown",
   "metadata": {},
   "source": [
    "\n",
    "    _ 2d _\n",
    "$$\n",
    "a_{j}(x) = \\frac{(-1)^{j} x^{2j}}{(2j)!} = \\frac{(-1)^{j}x^{2j}}{2j(2j-1)(2j-2)(2j-3)!}, ~j\\geq 0\n",
    "$$\n",
    " \n",
    "$$\n",
    "a_{j-1}(x) = \\frac{(-1)^{j-1}x^{2j-2}}{(2j-2)!} = \\frac{(-1)^{j}x^{2j-2}}{(-1)(2j-2)(2j-3)!}, ~j\\geq 1\n",
    "$$\n",
    "\n",
    "$$\n",
    "\\text{Then,} ~\\frac{a_{j}(x)}{a_{j-1}(x)} =\\frac{(-1)^{j}(x)^{2j}}{(2j)(2j-1)(2j-2)(2j-3)!} \n",
    "\\frac{(-1)(2j-2)(2j-3)!}{(-1)^{j}(x)^{2j}(x)^{-2}} = \\frac{(-1)(x^{2})}{2j(2j-1)}\n",
    "$$\n",
    "\n",
    "$$\n",
    "\\text{Which means that,} ~a_{j}(x) = -\\frac{a_{j-1}(x)}{(x^{2})(2j)(2j-1)}\n",
    "$$\n",
    "\n",
    "$$\n",
    "\\text{Finally,} ~a_{j}(x) = \\left\\{\\begin{array}{rl}  \n",
    "-\\frac{a_{j-1}(x)}{(x^{2})(2j)(2j-1)}, & j\\geq 1, x\\ne 0, \\\\ \n",
    "1, & j=0.\n",
    "\\end{array}\\right.\n",
    "$$"
   ]
  },
  {
   "cell_type": "markdown",
   "metadata": {},
   "source": [
    "\n",
    "    _ 2e _\n",
    "$$\n",
    "a_{j}(x) = \\frac{1}{j!(n+j)!}\\left(\\frac{x}{2}\\right)^{2j} =\\frac{1}{j(j-1)!(n+j)(n+j-1)!} \\frac{x^{2j}}{2^{2j}} = \\frac{x^{2j}}{j(j-1)!(n+j)(n+j-1)!(2^{2j})}, ~j\\geq 0\n",
    "$$\n",
    "\n",
    "$$\n",
    "a_{j-1}(x) = \\frac{x^{2j-2}}{(j-1)!(n+j-1)!(2^{2j-2})} = \\frac{x^{2j}2^{2}}{(j-1)!(n+j-1)!(2^{2j})(x^2)}, ~j\\geq 1\n",
    "$$\n",
    "\n",
    "$$\n",
    "\\text{Then,} ~\\frac{a_{j}(x)}{a_{j-1}(x)} = \\frac{x^{2j}}{j(j-1)!(n+j)(n+j-1)!(2^{2j})} \\frac{(j-1)!(n+j-1)!(2^{2j})(x^2)}{(x^{2j})(2^{2})} = \\frac{x^2}{4j(n+j)}\n",
    "$$\n",
    "\n",
    "$$\n",
    "\\text{Which means that} ~a_{j}(x) = \\frac{a_{j-1}(x)x^2}{4j(n+j)}\n",
    "$$\n",
    "\n",
    "$$\n",
    "\\text{Finally,} ~a_{j}(x) = \\left\\{\\begin{array}{rl}  \n",
    "\\frac{a_{j-1}(x)x^2}{4j(n+j)}, & j\\geq 1, \\\\ \n",
    "\\frac{1}{n!}, & j=0.\n",
    "\\end{array}\\right.\n",
    "$$"
   ]
  },
  {
   "cell_type": "markdown",
   "metadata": {},
   "source": [
    "** Problem 3 **: 7 pts.  Using the given Python function for computing \n",
    "\n",
    "$$\n",
    "\\cos(x) \\approx T_{2n}(x) = \\sum_{j=0}^{n} (-1)^{j}\\frac{x^{2j}}{(2j)!}\n",
    "$$\n",
    "\n",
    "produce a plot which compares the various Taylor series approximations for $n=1, 2, 3, 4$ over the interval $[-1,3]$.  Describe over which intervals each $T_{2n}(x)$ appears to be a valid approximation and at what point you would describe the approximation as breaking down.  Yes, this is slightly subjective, but it is meant to make you think for a bit.   \n",
    "\n",
    "Use the provided code below as a skeleton with which to produce your plot.  Refer to the notes for help in completing this problem.    "
   ]
  },
  {
   "cell_type": "code",
   "execution_count": 2,
   "metadata": {},
   "outputs": [],
   "source": [
    "def tn_approx(x,n):\n",
    "    tot = 1.\n",
    "    term = 1.\n",
    "    for jj in xrange(1,n+1):\n",
    "        term *= -x**2./((2*jj)*(2*jj-1))\n",
    "        tot += term\n",
    "    return tot"
   ]
  },
  {
   "cell_type": "code",
   "execution_count": 3,
   "metadata": {},
   "outputs": [
    {
     "name": "stderr",
     "output_type": "stream",
     "text": [
      "/anaconda2/lib/python2.7/site-packages/matplotlib/cbook/deprecation.py:107: MatplotlibDeprecationWarning: Adding an axes using the same arguments as a previous axes currently reuses the earlier instance.  In a future version, a new instance will always be created and returned.  Meanwhile, this warning can be suppressed, and the future behavior ensured, by passing a unique label to each axes instance.\n",
      "  warnings.warn(message, mplDeprecation, stacklevel=1)\n"
     ]
    },
    {
     "data": {
      "image/png": "[encoded data removed]",
      "text/plain": [
       "<Figure size 648x504 with 1 Axes>"
      ]
     },
     "metadata": {
      "needs_background": "light"
     },
     "output_type": "display_data"
    }
   ],
   "source": [
    "xvals = np.linspace(-1.,3.,int(2e4))\n",
    "\n",
    "ex_vals = np.cos(xvals)\n",
    "\n",
    "t1_app = [tn_approx(xval,1) for xval in xvals]\n",
    "t2_app = [tn_approx(xval,2) for xval in xvals]\n",
    "t3_app = [tn_approx(xval,3) for xval in xvals]\n",
    "t4_app = [tn_approx(xval,4) for xval in xvals]\n",
    "\n",
    "plt.plot(xvals, ex_vals, ls=\"-\", color =\"k\", label=\"$\\cos(x)$\")\n",
    "plt.plot(xvals, t1_app, ls=\"--\", color=\"b\",label=\"$T_{1}(x)$\")\n",
    "plt.plot(xvals, t2_app, ls=\"--\", color=\"g\", label=\"$T_{3}(x)$\")\n",
    "plt.plot(xvals, t3_app, ls=\"--\", color=\"r\", label=\"$T_{5}(x)$\")\n",
    "plt.plot(xvals, t4_app, ls=\"--\", color=\"y\", label=\"$T_{7}(x)$\")\n",
    "\n",
    "plt.legend(loc=(.1,.1))\n",
    "\n",
    "plt.xlim(0,4.1)\n",
    "plt.ylim(-.75,1.1)\n",
    "\n",
    "plt.axes().set_aspect(\"equal\")\n",
    "\n",
    "fig=plt.gcf() # get current figure\n",
    "fig.set_size_inches(9,7) # optional size"
   ]
  },
  {
   "cell_type": "markdown",
   "metadata": {},
   "source": [
    "_Provide Explanation of Results Here_: There was some missing code along with some errors. I ran the code to see what was going on with the first error. I then would refer to the lecture notes (lecutre 3) to figure out what was missing in the code that was causing that specific error. I did this for each error until there was no more errors left which resulted in a nice looking graph, which you can see above, without any issues. \n",
    "\n",
    "An example of an error: the code that determined that color and type of lines that would be produced on the graph was missing. To solve this, I simply had to put ls=\"-\" or ls=\"--\" for lines 10-14.\n",
    "\n",
    "Looking at the graph, it looks like Intervals T1 and T3 are breaking down and are not as accurate as T5 and T7. It looks like T1 is breaking down around x = 1.0 anmd beyond. T3 is breaking down around 2.0 and beyond. "
   ]
  }
 ],
 "metadata": {
  "kernelspec": {
   "display_name": "Python 2",
   "language": "python",
   "name": "python2"
  },
  "language_info": {
   "codemirror_mode": {
    "name": "ipython",
    "version": 2
   },
   "file_extension": ".py",
   "mimetype": "text/x-python",
   "name": "python",
   "nbconvert_exporter": "python",
   "pygments_lexer": "ipython2",
   "version": "2.7.15"
  }
 },
 "nbformat": 4,
 "nbformat_minor": 2
}
