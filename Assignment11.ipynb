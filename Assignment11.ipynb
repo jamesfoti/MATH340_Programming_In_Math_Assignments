{
 "cells": [
  {
   "cell_type": "markdown",
   "metadata": {},
   "source": [
    "## Assignment Eleven\n",
    "\n",
    "## Due May 8th"
   ]
  },
  {
   "cell_type": "code",
   "execution_count": 1,
   "metadata": {},
   "outputs": [],
   "source": [
    "import numpy as np\n",
    "import matplotlib.pyplot as plt\n",
    "import scipy.integrate as spqd\n",
    "from time import time\n",
    "%matplotlib inline"
   ]
  },
  {
   "cell_type": "code",
   "execution_count": 2,
   "metadata": {},
   "outputs": [],
   "source": [
    "def simpson_method(a,b,N,f):\n",
    "    Nint = int(N)\n",
    "    Tint = 2*Nint\n",
    "    xvals = np.linspace(a,b,Tint+1)\n",
    "    fvals = f(xvals)\n",
    "    dx = (b-a)/(2.*N)\n",
    "    return dx/3.*(fvals[0] + fvals[Tint] + 2.*np.sum(fvals[2:Tint-1:2]) + 4.*np.sum(fvals[1:Tint:2])) "
   ]
  },
  {
   "cell_type": "code",
   "execution_count": 3,
   "metadata": {},
   "outputs": [],
   "source": [
    "def adap_quad_comp(f,a,b,c,fa,fb,fc,Aab,tol):    \n",
    "    d = (a+c)/2.\n",
    "    e = (b+c)/2.\n",
    "    fd = f(d)\n",
    "    fe = f(e)\n",
    "    dx3 = (d-a)/3.\n",
    "    Aac = dx3*(fa+4.*fd+fc)\n",
    "    Acb = dx3*(fc+4.*fe+fb)\n",
    "    if np.abs(Aab-(Aac+Acb))<=tol: \n",
    "        return (16./15.*(Aac+Acb)-Aab/15.)\n",
    "    else:  \n",
    "        F1 = adap_quad_comp(f,a,c,d,fa,fc,fd,Aac,tol)\n",
    "        F2 = adap_quad_comp(f,c,b,e,fc,fb,fe,Acb,tol)\n",
    "        return F1 + F2\n",
    "    \n",
    "def adap_quad(f,a,b,tol):\n",
    "    c = (a+b)/2.\n",
    "    fa = f(a)\n",
    "    fb = f(b)\n",
    "    fc = f(c)\n",
    "    dx3 = (c-a)/3.\n",
    "    Aab = dx3*(fa+4.*fc+fb)\n",
    "    ival = adap_quad_comp(f,a,b,c,fa,fb,fc,Aab,tol)    \n",
    "    return ival"
   ]
  },
  {
   "cell_type": "markdown",
   "metadata": {},
   "source": [
    "**Problem 1**: [7 points] Use the adaptive quadrature algorithm to evaluate \n",
    "\n",
    "$$\n",
    "\\int_{-\\pi/4}^{\\pi/2} \\frac{dt}{\\sin\\left(\\sqrt{|t|} \\right)}.\n",
    "$$\n",
    "\n",
    "State how you arrive at your result i.e. what tolerances do you choose and what degree of accuracy can you argue that they provide you?  Why do you not encounter divide-by-zero difficulties at $t=0$?"
   ]
  },
  {
   "cell_type": "code",
   "execution_count": 4,
   "metadata": {},
   "outputs": [
    {
     "name": "stdout",
     "output_type": "stream",
     "text": [
      "4.6068607202104825\n",
      "4.606990987173205\n",
      "4.606992366667309\n"
     ]
    }
   ],
   "source": [
    "#1. \n",
    "f = lambda t: 1. / (np.sin(np.sqrt(np.abs(t))))\n",
    "a = -np.pi / 4.\n",
    "b = np.pi / 2. \n",
    "tol1 = 1e-4\n",
    "tol2 = 1e-6\n",
    "tol3 = 1e-8\n",
    "print adap_quad(f, a, b, tol1)\n",
    "print adap_quad(f, a, b, tol2)\n",
    "print adap_quad(f, a, b, tol3)"
   ]
  },
  {
   "cell_type": "markdown",
   "metadata": {},
   "source": [
    "**Problem 2**: [10 points] Definite integrals sometimes have the property that the integrand becomes infinite at one or both of the endpoints, but the integral itself is finite.  In other words, $\\lim_{x\\rightarrow a}|f(x)|=\\infty$ or $\\lim_{x\\rightarrow a}|f(x)|=\\infty$, but \n",
    "\n",
    "$$\n",
    "\\int_{a}^{b}f(x)dx \n",
    "$$\n",
    "\n",
    "exists and is finite.  \n",
    "\n",
    "* [7 points] Modify the adaptive quadrature algorithm so that if an infinite value of $f(a)$ or $f(b)$ is detected, an appropriate warning message is displayed and $f(x)$ is reevaluated at a point very near to a or b.  \n",
    "\n",
    "* [3 points] Find an example that triggers the warning, but has a finite integral.  "
   ]
  },
  {
   "cell_type": "code",
   "execution_count": 30,
   "metadata": {},
   "outputs": [],
   "source": [
    "def adap_quad(f,a,b,tol):\n",
    "    c = (a+b)/2.\n",
    "    \n",
    "    try: \n",
    "        fa = f(a)\n",
    "    except: \n",
    "        print \"Error: f(a) approaches infnity.\"\n",
    "        s = input(\"Enter a new 'a' value: \")\n",
    "        print type(s)\n",
    "        a = float(s)\n",
    "        fa = f(a)\n",
    "        \n",
    "    try:\n",
    "        fb = f(b)\n",
    "    except:\n",
    "        s = input(\"Enter a new 'a' value: \")\n",
    "        print type(s)\n",
    "        b = float(s)\n",
    "        fb = f(b)\n",
    "        \n",
    "    fc = f(c)\n",
    "    dx3 = (c-a)/3.\n",
    "    Aab = dx3*(fa+4.*fc+fb)\n",
    "    ival = adap_quad_comp(f,a,b,c,fa,fb,fc,Aab,tol)    \n",
    "    return ival"
   ]
  },
  {
   "cell_type": "code",
   "execution_count": 32,
   "metadata": {},
   "outputs": [
    {
     "name": "stdout",
     "output_type": "stream",
     "text": [
      "Enter a new 'a' value: 1.8\n",
      "<type 'float'>\n",
      "2.30258726596\n"
     ]
    }
   ],
   "source": [
    "f1 = lambda x: 1. / (2 - x)\n",
    "a1 = 0\n",
    "b1 = 2  \n",
    "print adap_quad(f1, a1, b1, 1e-4)"
   ]
  },
  {
   "cell_type": "markdown",
   "metadata": {},
   "source": [
    "**Problem 3**: (23 pts) Consider the following table:\n",
    "\n",
    "| $x$  | 1 | 1.1 | 1.2| 1.3  | 1.4 |\n",
    "| ------------- | ------------- | ------------- | ------------- | ------------- | ------------- |\n",
    "| $\\cos(x)$ | 0.54030  | 0.45360  |0.36236 | 0.26750 | 0.16997  |\n",
    "\n",
    "(i) [10 points] Using Newton Interpolation, write a program to obtain\n",
    "\n",
    "(ii) [2 points] A polynomial of degree 1 that interpolates $\\cos(x)$.\n",
    "\n",
    "(iii) [2 points] A polynomial of degree 2 that interpolates $\\cos(x)$.\n",
    "\n",
    "(iv) [2 points] A polynomial of degree 3 that interpolates $\\cos(x)$.\n",
    "\n",
    "(v) [2 points] A polynomial of degree 4 that interpolates $\\cos(x)$.\n",
    "\n",
    "(vi) [5 points] Compute $\\cos(1.05)$ using the various order polynomials and investigate the error for the Newton polynomial approximations in (ii) - (v)"
   ]
  },
  {
   "cell_type": "code",
   "execution_count": 50,
   "metadata": {},
   "outputs": [
    {
     "ename": "SyntaxError",
     "evalue": "invalid syntax (<ipython-input-50-2bfb8773d947>, line 22)",
     "output_type": "error",
     "traceback": [
      "\u001b[0;36m  File \u001b[0;32m\"<ipython-input-50-2bfb8773d947>\"\u001b[0;36m, line \u001b[0;32m22\u001b[0m\n\u001b[0;31m    p += 1\u001b[0m\n\u001b[0m    ^\u001b[0m\n\u001b[0;31mSyntaxError\u001b[0m\u001b[0;31m:\u001b[0m invalid syntax\n"
     ]
    }
   ],
   "source": [
    "def newton_interpolation(degree):\n",
    "    xIinterval = np.linspace(1., 1.+(degree/10.), int(degree+1))\n",
    "    fx = np.cos(x)\n",
    "    p = 1.\n",
    "    a1 = []\n",
    "    a2 = []\n",
    "    a3 = []\n",
    "    a4 = []\n",
    "    if degree >= 1:\n",
    "        while p <= degree:\n",
    "            a1.append((f[p] - f[p-1]) / (xIinterval[p] - xIinterval[p-1]))\n",
    "            p += 1\n",
    "    if degree >= 2:\n",
    "        p = 2\n",
    "        while p <= degree:\n",
    "            a2.append((a1[p-1] - a1[p-2]) / (xIinterval[p] - xIinterval[p-2]))\n",
    "            p+=1\n",
    "    if degree >= 3:\n",
    "        p = 3\n",
    "        while p <= degree:\n",
    "            a3.append((a2[p-2] - a2[p-3]) / (xIinterval[p] - xIinterval[p-3])\n",
    "            p += 1\n",
    "    if degree >= 4:\n",
    "        p = 4\n",
    "        while p <= degree:\n",
    "            a4.append((a3[p-3] - a3[p-4]) / xIinterval[p] - xIinterval[p-4])\n",
    "            p += 1\n",
    "    if degree == 1:\n",
    "        f = lambda x: fx[0] + a1[0]*(x-xIinterval[0])\n",
    "        return f\n",
    "    if degree == 2:\n",
    "        f = lambda x: fx[0] + a1[0]*(x-xInterval[0]) + a2[0]*(x-xInterval[0])*(x-xInterval[1])\n",
    "        return f\n",
    "    if degree == 3:\n",
    "        f = lambda x: fx[0] + a1[0]*(x-xInterval[0]) + a2[0]*(x-xInterval[0])*(x-xInterval[1]) + a3[0]*(x-xInterval[0])*(x-xInterval[1])\n",
    "        return f  \n",
    "    if degree == 4:\n",
    "        f = lambda x: fx[0] + a1[0]*(x-xInterval[0]) + a2[0]*(x-xInterval[0])*(x-xInterval[1]) + a3[0]*(x-xInterval[0])*(x-xInterval[1]) = a4[0]*(x-xInvetcal[0])*(x-xInterval[1])\n",
    "        return f\n",
    "    else: \n",
    "        return \"Enter degrees 1-4 only!\""
   ]
  },
  {
   "cell_type": "code",
   "execution_count": 49,
   "metadata": {},
   "outputs": [
    {
     "ename": "NameError",
     "evalue": "name 'newton_interpolation' is not defined",
     "output_type": "error",
     "traceback": [
      "\u001b[0;31m---------------------------------------------------------------------------\u001b[0m",
      "\u001b[0;31mNameError\u001b[0m                                 Traceback (most recent call last)",
      "\u001b[0;32m<ipython-input-49-a73b9899d33e>\u001b[0m in \u001b[0;36m<module>\u001b[0;34m()\u001b[0m\n\u001b[0;32m----> 1\u001b[0;31m \u001b[0md1\u001b[0m \u001b[0;34m=\u001b[0m \u001b[0mnewton_interpolation\u001b[0m\u001b[0;34m(\u001b[0m\u001b[0;36m1\u001b[0m\u001b[0;34m)\u001b[0m\u001b[0;34m\u001b[0m\u001b[0m\n\u001b[0m\u001b[1;32m      2\u001b[0m \u001b[0md2\u001b[0m \u001b[0;34m=\u001b[0m \u001b[0mnewton_interpolation\u001b[0m\u001b[0;34m(\u001b[0m\u001b[0;36m2\u001b[0m\u001b[0;34m)\u001b[0m\u001b[0;34m\u001b[0m\u001b[0m\n\u001b[1;32m      3\u001b[0m \u001b[0md3\u001b[0m \u001b[0;34m=\u001b[0m \u001b[0mnewton_interpolation\u001b[0m\u001b[0;34m(\u001b[0m\u001b[0;36m3\u001b[0m\u001b[0;34m)\u001b[0m\u001b[0;34m\u001b[0m\u001b[0m\n\u001b[1;32m      4\u001b[0m \u001b[0md4\u001b[0m \u001b[0;34m=\u001b[0m \u001b[0mnewton_interpolation\u001b[0m\u001b[0;34m(\u001b[0m\u001b[0;36m4\u001b[0m\u001b[0;34m)\u001b[0m\u001b[0;34m\u001b[0m\u001b[0m\n\u001b[1;32m      5\u001b[0m \u001b[0;34m\u001b[0m\u001b[0m\n",
      "\u001b[0;31mNameError\u001b[0m: name 'newton_interpolation' is not defined"
     ]
    }
   ],
   "source": [
    "d1 = newton_interpolation(1)\n",
    "d2 = newton_interpolation(2)\n",
    "d3 = newton_interpolation(3)\n",
    "d4 = newton_interpolation(4)\n",
    "\n",
    "ac = np.cos(1.05)\n",
    "ad1 = d1(1.05)\n",
    "ad2 = d2(1.05)\n",
    "ad3 = d3(1.05)\n",
    "ad4 = d4(1.05)\n",
    "\n",
    "e1 = np.abs(ad1 - ac) / ac\n",
    "e2 = np.abs(ad2 - ac) / ac\n",
    "e3 = np.abs(ad3 - ac) / ac\n",
    "e4 = np.abs(ad4 - ac) / ac\n",
    "\n",
    "print ac, ad1, ad2, ad3, ad4\n",
    "print e1, e2, e3, e4"
   ]
  },
  {
   "cell_type": "markdown",
   "metadata": {
    "collapsed": true
   },
   "source": [
    "**Problem 4**: (10 pts) \n",
    "    \n",
    "i) [8 points] Write a python program to find the **cubic root** of a number based on Newton method.\n",
    "\n",
    "ii) [2 points] Using your program in i), compute the root of $a=155$"
   ]
  },
  {
   "cell_type": "code",
   "execution_count": 45,
   "metadata": {},
   "outputs": [],
   "source": [
    "f = lambda x, a: x*x*x-a\n",
    "fp = lambda x: 3.0*x**2"
   ]
  },
  {
   "cell_type": "code",
   "execution_count": 46,
   "metadata": {},
   "outputs": [],
   "source": [
    "def cubic_root_newton_method(x, a):\n",
    "    h = f(x, a) / fp(x)\n",
    "    while np.abs(h) >= .0001:\n",
    "        h = f(x, a) / fp(x)\n",
    "        x = x-h\n",
    "    print \"The value of the root is: \" + str(x)"
   ]
  },
  {
   "cell_type": "code",
   "execution_count": 37,
   "metadata": {},
   "outputs": [
    {
     "name": "stdout",
     "output_type": "stream",
     "text": [
      "The value of the root is: 5.37168535494\n"
     ]
    }
   ],
   "source": [
    "a = 155\n",
    "cubic_root_newton_method(a/2, a)"
   ]
  },
  {
   "cell_type": "code",
   "execution_count": null,
   "metadata": {},
   "outputs": [],
   "source": []
  }
 ],
 "metadata": {
  "kernelspec": {
   "display_name": "Python 2",
   "language": "python",
   "name": "python2"
  },
  "language_info": {
   "codemirror_mode": {
    "name": "ipython",
    "version": 2
   },
   "file_extension": ".py",
   "mimetype": "text/x-python",
   "name": "python",
   "nbconvert_exporter": "python",
   "pygments_lexer": "ipython2",
   "version": "2.7.15"
  }
 },
 "nbformat": 4,
 "nbformat_minor": 2
}
