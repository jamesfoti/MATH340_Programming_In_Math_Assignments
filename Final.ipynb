{
 "cells": [
  {
   "cell_type": "markdown",
   "metadata": {},
   "source": [
    "## Final Exam\n",
    "\n",
    "## Due Wednesday, May 15th"
   ]
  },
  {
   "cell_type": "code",
   "execution_count": 1,
   "metadata": {},
   "outputs": [],
   "source": [
    "import numpy as np\n",
    "import matplotlib.pyplot as plt\n",
    "%matplotlib inline\n",
    "import math"
   ]
  },
  {
   "cell_type": "markdown",
   "metadata": {},
   "source": [
    "**Problem 1** (20 pts) There are many methods for finding numerical solutions to differential equations of the form $y'=f(x,y)$, an example is the following formula:\n",
    "$$y_{n+1} = y_n + \\frac{1}{6}(k_1 +2k_2+2k_3+k_4)$$\n",
    "where \n",
    "\\begin{align}\n",
    "k_1 &= hf(x_n,y_n)\\\\\n",
    "k_2 &= hf(x_n+ 0.5h,y_n+0.5k_1)\\\\\n",
    "k_3 &=hf(x_n+0.5h,y_n+0.5k_2)\\\\\n",
    "k_4 &= hf(x_n+h,y_n+k_3)\n",
    "\\end{align}\n",
    "\n",
    "You are advised to look carefully at the formula; note that $k_2$ depends on $k_1$, $k_3$ depends on $k_2$, and $k_4$ depends on $k_3$. The program you implement in part (a) will use the formula above to compute the approximate solution of the differential equation $y'=2xy$.\n",
    "\n",
    "\n",
    "(a) The value of $x_n$ for $n=0 \\cdots 5$ is given in the table below:\n",
    "\n",
    "| $x_0$  |  $x_1$ |  $x_2$ |  $x_3$|  $x_4$  |  $x_5$ |\n",
    "| ------------- | ------------- | ------------- | ------------- | ------------- | ------------- |\n",
    " | 1 | 1.1 | 1.2| 1.3  | 1.4 | 1.5 |\n",
    " \n",
    "Suppose that $y_0=1$, $h=0.1$, $f(x,y) = 2xy$, write a program to compute the value of $y_n$ for $n=0 \\cdots 5$. Use the formula for $y_{n+1}$ above. Observe that the formula for $y_{n+1}$ is a recursive relation.\n",
    "\n",
    "\n",
    "(b) The global truncation error for the formula above is:\n",
    "\n",
    "$$ \\text{error} = Y^{(5)}(c)\\frac{h^5}{5!},$$\n",
    "where $Y(x) = e^{x^2-1}$  is the exact solution of the differential equation $y'=2xy$. \n",
    "\n",
    "Calculate the global truncation error for the method. Use $h=0.1$ and $c=1.5$. Note  that $Y^{(5)}$ represents the fifth derivative of $Y(x)$. You must show work to receive credit.\n",
    "\n",
    "(c) Compare the exact solution $Y(x) = e^{x^2-1}$ at $x=x_n$ for $n=0 \\cdots 5$ to your computed solution from part (a) by plotting both on the same graph. Describe your observation(s).   "
   ]
  },
  {
   "cell_type": "code",
   "execution_count": 2,
   "metadata": {},
   "outputs": [],
   "source": [
    "# present your code for part (a)\n",
    "def rungeKutta(f, h): #user must enter a function and 'h' value.\n",
    "    h = float(h)\n",
    "    xvals = np.linspace(1, 1.5, 6)\n",
    "    yvals = range(6)\n",
    "    yvals[0] = 1.0\n",
    "    for i in range(5):\n",
    "        yvals1 = yvals[i]\n",
    "        k1 = f(xvals[i], yvals1)\n",
    "        yvals2 = (yvals[i] + (h / 2.) * k1)\n",
    "        k2 = f(xvals[i+1], yvals2)\n",
    "        yvals3 = (yvals[i] + (h / 2.) * k2)\n",
    "        k3 = f(xvals[i+1], yvals3)\n",
    "        yvals4 = (yvals[i] + h*k3)\n",
    "        k4 = f(xvals[i+1], yvals4)\n",
    "        yvals[i+1] = yvals[i] + (h/6.)*(k1+2*k2 + 2*k3 + k4)\n",
    "    return np.array(yvals)"
   ]
  },
  {
   "cell_type": "code",
   "execution_count": 3,
   "metadata": {},
   "outputs": [
    {
     "name": "stdout",
     "output_type": "stream",
     "text": [
      "[1.         1.24191607 1.57350938 2.03390631 2.68211051 3.6083282 ]\n"
     ]
    }
   ],
   "source": [
    "# write down the value of $y_n$ for $n=0 \\cdots 5$ you obtained from your program \n",
    "f = lambda x, y: 2*x*y\n",
    "xvals = np.linspace(1, 1.5, 6)\n",
    "print rungeKutta(f, .1)"
   ]
  },
  {
   "cell_type": "markdown",
   "metadata": {},
   "source": [
    "$$\n",
    "\\begin{align}\n",
    "& Y(x) = e^{x^{2}-1} \\\\\n",
    "& Y'(x) = 2xe^{x^{2} -1} \\\\\n",
    "& Y''(x) = (4x^{2}+2)x^{x^{2}-1} \\\\\n",
    "& Y'''(x) = (8x^{3} + 12x)e^{x^{2}-1} \\\\\n",
    "& Y^{4}(x) = (16x^{4}+48x^{2} + 12)e^{x^{2}-1} \\\\\n",
    "& Y^{5}(x) = (32x^{5}+160x^{3} + 120x)e^{x^{2}-1} \\\\\n",
    "\\end{align}\n",
    "$$"
   ]
  },
  {
   "cell_type": "code",
   "execution_count": 4,
   "metadata": {},
   "outputs": [
    {
     "name": "stdout",
     "output_type": "stream",
     "text": [
      "[3.90000000e-05 6.11436014e-05 9.70648211e-05 1.56091418e-04\n",
      " 2.54360850e-04 4.20150034e-04]\n",
      "[1.         1.24191607 1.57350938 2.03390631 2.68211051 3.6083282 ]\n"
     ]
    }
   ],
   "source": [
    "# present your work for part (b)\n",
    "\n",
    "Yp5 = lambda x: np.e**((x**2)-1)*(32*(x**5)+160*(x**3)+120*x)\n",
    "Y = lambda x: np.e**((x**2)-1)\n",
    "c = 1.5\n",
    "h = .1\n",
    "error = (Yp5(xvals)* (c)*(h)**5.) / 120.\n",
    "print error\n",
    "print rungeKutta(f, h)"
   ]
  },
  {
   "cell_type": "code",
   "execution_count": 5,
   "metadata": {},
   "outputs": [
    {
     "name": "stdout",
     "output_type": "stream",
     "text": [
      "[1.         1.23367806 1.55270722 1.99371553 2.61169647 3.49034296]\n",
      "[1.         1.24191607 1.57350938 2.03390631 2.68211051 3.6083282 ]\n",
      "[3.90000000e-05 6.11436014e-05 9.70648211e-05 1.56091418e-04\n",
      " 2.54360850e-04 4.20150034e-04]\n"
     ]
    },
    {
     "data": {
      "text/plain": [
       "<matplotlib.legend.Legend at 0x11332be50>"
      ]
     },
     "execution_count": 5,
     "metadata": {},
     "output_type": "execute_result"
    },
    {
     "data": {
      "image/png": "[encoded data removed]",
      "text/plain": [
       "<Figure size 432x288 with 1 Axes>"
      ]
     },
     "metadata": {
      "needs_background": "light"
     },
     "output_type": "display_data"
    }
   ],
   "source": [
    "# present your work for part (b) and (c)\n",
    "trueVals = Y(xvals)\n",
    "print trueVals\n",
    "estimateVals = rungeKutta(f, h)\n",
    "print estimateVals\n",
    "print error\n",
    "plt.plot(xvals, trueVals, color = 'b', label = 'True Values')\n",
    "plt.plot(xvals, estimateVals, color = 'r', label = 'Runge Kutta Estimates')\n",
    "plt.plot(xvals, error, color = 'g', label = 'Errors')\n",
    "plt.title('Runge Kutta Estimates Vs. True Values')\n",
    "plt.xlabel('$x$')\n",
    "plt.ylabel('$y$')\n",
    "plt.legend()\n",
    "# Based off the graph and the previous error test, there is a slight difference between the Runge Kutta estimate vs\n",
    "# the true values. Both graphs seem to grow exponentionally. "
   ]
  },
  {
   "cell_type": "code",
   "execution_count": 6,
   "metadata": {},
   "outputs": [
    {
     "data": {
      "text/plain": [
       "<matplotlib.legend.Legend at 0x1133e4910>"
      ]
     },
     "execution_count": 6,
     "metadata": {},
     "output_type": "execute_result"
    },
    {
     "data": {
      "image/png": "[encoded data removed]",
      "text/plain": [
       "<Figure size 432x288 with 1 Axes>"
      ]
     },
     "metadata": {
      "needs_background": "light"
     },
     "output_type": "display_data"
    }
   ],
   "source": [
    "plt.scatter(xvals, trueVals, color = 'b', label = 'True Values')\n",
    "plt.scatter(xvals, estimateVals, color = 'r', label = 'Runge Kutta Estimates')\n",
    "plt.scatter(xvals, error, color = 'g', label = 'Errors')\n",
    "plt.title('Runge Kutta Estimates Vs. True Values')\n",
    "plt.xlabel('$x$')\n",
    "plt.ylabel('$y$')\n",
    "plt.legend()"
   ]
  },
  {
   "cell_type": "markdown",
   "metadata": {},
   "source": [
    "**Problem 2** (20 pts): \n",
    "\n",
    "Let $K$ be the maximum value of $\\left \\lvert f^{(4)}(x)\\right\\rvert$ on an interval $[a,b]$, then the error bound for Simpson method $E_S$ is: \n",
    "\n",
    "$$E_S = \\left\\lvert \\int_a^b f(x) \\ dx - S_n  \\right\\rvert \\leq \\frac{(b-a)^5 K }{180 \\ n^4}$$\n",
    "\n",
    "Let $f(x) = \\cos(x-x^2)$, \n",
    "\n",
    "(a) Write a program to compute the maximum value of $\\left \\lvert f^{(4)}(x)\\right\\rvert$ on an interval $[0,1]$. Note that $f^{(4)}(x)$ represents the fourth derivative of the function $f(x)$.\n",
    "\n",
    "(b) How large must the value of $n$ be in the approximation $S_n$ of $\\int_0^1 f(x) \\ dx$ by Simpson's rule to ensure that the absolute error is less than $10^{-4}$?\n",
    "\n",
    "(c) Write a program to compute the integral $\\int_0^1 f(x) \\ dx$  using Simpson's method with the value of $n$ obtained in part (b).\n",
    "\n",
    "(d) Write down the exact solution for $\\int_0^1 f(x) \\ dx$ (you don't need to show work for how you computed the exact integral).\n",
    "\n",
    "(e) Compare the exact solution from part (d) to the computed solution from part (c). Does it agree with you estimates in part (b)?\n",
    "\n",
    "\n"
   ]
  },
  {
   "cell_type": "code",
   "execution_count": 7,
   "metadata": {},
   "outputs": [
    {
     "name": "stdout",
     "output_type": "stream",
     "text": [
      "K = 12.428157819553439\n"
     ]
    }
   ],
   "source": [
    "#present your program for part 2(a)\n",
    "def max_value(f, a, b):\n",
    "    xvals = np.linspace(a, b, int(1e4))\n",
    "    abosluteYvals = np.abs(f(xvals))\n",
    "    K = np.max(abosluteYvals)\n",
    "    return K\n",
    "\n",
    "fp4 = lambda x: -24*(x**2)*np.sin(-x**2 + x) + 24*x*np.sin(-x**2 + x) - 12*np.cos(-x**2 + x) + np.cos(-x**2 + x)*((-2*x+1)**4) - 6*np.sin(-x**2 + x)*(-2*x+1)**2 - 6*np.sin(-x**2 + x)\n",
    "\n",
    "print \"K = \" + str(max_value(fp4, 0, 1))"
   ]
  },
  {
   "cell_type": "markdown",
   "metadata": {},
   "source": [
    "#present your work for part 2(b) \n",
    "\n",
    "$$\n",
    "\\begin{align}\n",
    "& E_S = \\left\\lvert \\int_a^b f(x) \\ dx - S_n  \\right\\rvert \\leq \\frac{(b-a)^5 K }{180 \\ n^4} \\\\\n",
    "& \\implies 10^{-4} \\leq \\frac{(b-a)^5 K }{180 \\ n^4} \\\\\n",
    "& n^{4}10^{-4} \\leq \\frac{k}{180n^{4}} \\\\\n",
    "& n^{4} \\leq \\frac{k10^{4}}{180} \\\\\n",
    "& E_S < n \\leq \\Big(\\frac{k10^{4}}{180}\\Big)^{\\frac{1}{4}} \\\\\n",
    "\\end{align}\n",
    "$$"
   ]
  },
  {
   "cell_type": "code",
   "execution_count": 8,
   "metadata": {},
   "outputs": [],
   "source": [
    "#present your answer from Simpson's method for part 2(c) \n",
    "def simpons_method_approximation(a, b, n, f):\n",
    "    n = int(2*n)\n",
    "    xvals = np.linspace(a, b, n+1)\n",
    "    fvals = f(xvals)\n",
    "    dx = float(b-a)/float(n)\n",
    "    return (dx/3.)*(fvals[0] + fvals[n]+2.*np.sum(fvals[2:n-1:2])+4.*np.sum(fvals[1:n:2]))"
   ]
  },
  {
   "cell_type": "code",
   "execution_count": 9,
   "metadata": {},
   "outputs": [
    {
     "name": "stdout",
     "output_type": "stream",
     "text": [
      "S_{n} = 0.9833926633880781\n"
     ]
    }
   ],
   "source": [
    "#present your program for part 2(c) \n",
    "f = lambda x: np.cos(x-(x**2))\n",
    "K = max_value(fp4, 0, 1)\n",
    "n = ((K * (1e4)) / 180.)**(1./4.)\n",
    "Sn = simpons_method_approximation(0, 1, n, f)\n",
    "print \"S_{n} = \" + str(Sn)"
   ]
  },
  {
   "attachments": {
    "Screen%20Shot%202019-05-14%20at%201.09.32%20PM.png": {
     "image/png": "[encoded data removed]"
    }
   },
   "cell_type": "markdown",
   "metadata": {},
   "source": [
    "present your answer for part 2(d) \n",
    "![Screen%20Shot%202019-05-14%20at%201.09.32%20PM.png](attachment:Screen%20Shot%202019-05-14%20at%201.09.32%20PM.png)"
   ]
  },
  {
   "cell_type": "code",
   "execution_count": 10,
   "metadata": {},
   "outputs": [],
   "source": [
    "# I took this screenshot from https://www.desmos.com/calculator/5zk0auhgmi and used my TI-84\n",
    "# calculator to find the area under curve of f(x) from x = 0 to x = 1 which came out to be \n",
    "# .98339936"
   ]
  },
  {
   "cell_type": "code",
   "execution_count": 11,
   "metadata": {},
   "outputs": [
    {
     "name": "stdout",
     "output_type": "stream",
     "text": [
      "0.98339936\n",
      "0.9833926633880781\n",
      "6.696611921874762e-06\n"
     ]
    }
   ],
   "source": [
    "#present your answer for part 2(e) \n",
    "exactValue = .98339936 # value from graphing calculator\n",
    "Sn = simpons_method_approximation(0, 1, n, f)\n",
    "Error = np.abs(exactValue - Sn)\n",
    "print exactValue\n",
    "print Sn\n",
    "print Error"
   ]
  },
  {
   "cell_type": "markdown",
   "metadata": {},
   "source": [
    "**Problem 3** (15 pts): Using the Secant Method, for $A>0$, \n",
    "\n",
    "* (10 pts) Write a program which finds $A^{1/m}$ for any positive value $m$.  Note, you need to choose a function $f(x)$ for the Secant Method whose root is $A^{1/m}$.  \n",
    "\n",
    "* (5 pts) How does your choice of $m$ effect how many iterations your program takes to converge for a given tolerance choice?  Plots will help me to understand your thinking here.  "
   ]
  },
  {
   "cell_type": "code",
   "execution_count": 12,
   "metadata": {},
   "outputs": [],
   "source": [
    "#present your program for part 3(a) \n",
    "def secant_method(m, A, x0,x1,tol):\n",
    "    f = lambda x: (x**m) - A\n",
    "    f0 = f(x0)\n",
    "    f1 = f(x1)\n",
    "    x2 = x1 - f1*(x1-x0)/(f1-f0)\n",
    "    \n",
    "    counter = 0.\n",
    "    while np.abs(f1) >= tol:\n",
    "        x0 = x1\n",
    "        x1 = x2\n",
    "        f0 = f1\n",
    "        f1 = f(x1)\n",
    "        x2 = x1 - f1*(x1-x0)/(f1-f0)\n",
    "        counter += 1.\n",
    "    print \"Number of iterations: \" + str(counter)\n",
    "    print \"A root of f(x) is: %1.15f\" %x2"
   ]
  },
  {
   "cell_type": "code",
   "execution_count": 13,
   "metadata": {},
   "outputs": [],
   "source": [
    "#present your answer for part 3(b) \n",
    "def num_of_iterations_secant_method(m, x0,x1,tol):\n",
    "    f = lambda x: (x**2) - 2**m\n",
    "    f0 = f(x0)\n",
    "    f1 = f(x1)\n",
    "    x2 = x1 - f1*(x1-x0)/(f1-f0)\n",
    "    \n",
    "    counter = 0.\n",
    "    while np.abs(f1) >= tol:\n",
    "        x0 = x1\n",
    "        x1 = x2\n",
    "        f0 = f1\n",
    "        f1 = f(x1)\n",
    "        x2 = x1 - f1*(x1-x0)/(f1-f0)\n",
    "        counter += 1.\n",
    "    return counter"
   ]
  },
  {
   "cell_type": "code",
   "execution_count": 14,
   "metadata": {},
   "outputs": [
    {
     "name": "stdout",
     "output_type": "stream",
     "text": [
      "Number of iterations: 3.0\n",
      "A root of f(x) is: 1.414213563344105\n"
     ]
    }
   ],
   "source": [
    "#present your answer for part 3(b) - CONTINUED\n",
    "m = 2\n",
    "A = 2.\n",
    "x0 = 1.5\n",
    "x1 = 1.75\n",
    "tol = 1e-4\n",
    "\n",
    "secant_method(m, A, x0, x1, tol)"
   ]
  },
  {
   "cell_type": "code",
   "execution_count": 15,
   "metadata": {},
   "outputs": [
    {
     "data": {
      "text/plain": [
       "Text(0,0.5,'Number of Iterations')"
      ]
     },
     "execution_count": 15,
     "metadata": {},
     "output_type": "execute_result"
    },
    {
     "data": {
      "image/png": "[encoded data removed]",
      "text/plain": [
       "<Figure size 432x288 with 1 Axes>"
      ]
     },
     "metadata": {
      "needs_background": "light"
     },
     "output_type": "display_data"
    }
   ],
   "source": [
    "#present your answer for part 3(b) - CONTINUED\n",
    "mvals = np.array([0., 1., 2., 3., 4., 5., 6., 7., 8., 9., 10.])\n",
    "yvals = [num_of_iterations_secant_method(jj, x0, x1, tol) for jj in mvals]\n",
    "plt.plot(mvals, yvals)\n",
    "plt.title('Number of Iterations for the Secant Method of $f(x)$ Depending on $m$')\n",
    "plt.xlabel('$m$')\n",
    "plt.ylabel('Number of Iterations')"
   ]
  },
  {
   "cell_type": "markdown",
   "metadata": {},
   "source": [
    "**Problem  4** (15 pts): So, associated with Chebyshev spacing or the Chebyshev nodes are Chebyshev polynomials, which for $-1\\leq x \\leq 1$ are defined to be $T_{n}(x)$ where\n",
    "\n",
    "$$\n",
    "T_{n}(x) = \\cos\\left(n \\cos^{-1}(x) \\right), ~ n=0, 1, ...\n",
    "$$\n",
    "\n",
    "We see that \n",
    "\n",
    "$$\n",
    "T_{0}(x) = 1, ~ T_{1}(x) = x\n",
    "$$\n",
    "\n",
    "Now:\n",
    "\n",
    "(a) (3 pts) Letting $\\theta = \\cos^{-1}(x)$, so that $T_{2}(x)=\\cos(2\\theta)$ and $T_{1}(x) = x = \\cos(\\theta)$, and using \n",
    "\n",
    "$$\n",
    "\\cos(2\\theta) = \\cos^{2}(\\theta) - \\sin^{2}(\\theta), \n",
    "$$\n",
    "\n",
    "and \n",
    "\n",
    "$$\n",
    "\\sin^{2}(\\theta) = 1 - \\cos^{2}(\\theta), \n",
    "$$\n",
    "\n",
    "show that \n",
    "\n",
    "$$\n",
    "T_{2}(x) = 2x^{2} - 1 \n",
    "$$\n",
    "(b) (3 pts) Letting $\\theta = \\cos^{-1}(x)$, so that $T_{n}(x)=\\cos(n\\theta)$, and using \n",
    "\n",
    "\\begin{align*}\n",
    "T_{n+1}(x) = \\cos((n+1)\\theta) = & \\cos(n\\theta)\\cos(\\theta) - \\sin(n\\theta)\\sin(\\theta)\\\\\n",
    "& \\\\\n",
    "\\sin(n\\theta) = & \\sin((n-1)\\theta)\\cos(\\theta) + \\cos((n-1)\\theta)\\sin(\\theta)\\\\\n",
    "& \\\\\n",
    "\\sin((n-1)\\theta)\\sin(\\theta) = & \\cos((n-1)\\theta)\\cos(\\theta) - \\cos(n\\theta) \n",
    "\\end{align*}\n",
    "\n",
    "show that \n",
    "\n",
    "$$\n",
    "T_{n+1}(x) = 2xT_{n}(x) - T_{n-1}(x)\n",
    "$$\n",
    "\n",
    "Using this and a brief induction argument, show that $T_{n}(x)$ is an $n^{th}$-order polynomial.\n",
    "\n",
    "(c) (2 pts) Show that the $n+1$ roots of $T_{n+1}(x)$ are given by the Chebyshev nodes \n",
    "\n",
    "$$\n",
    "x_{j} = \\cos\\left(\\pi\\frac{2j+1}{2n+2} \\right),  ~ j=0,\\cdots, n\n",
    "$$\n",
    "\n",
    "Thus, if we use the recurence relation above and the Fundamental Theorem of Algebra, we see that \n",
    "\n",
    "$$\n",
    "T_{n+1}(x) = 2^{n}\\prod_{j=0}^{n}\\left(x - x_{j}\\right).\n",
    "$$\n",
    "\n",
    "Therefore, when we write the Lagrange Interpolating Polynomial, $P_{n}(x)$, which interpolates the data $\\left\\{x_{j}, f_{j}\\right\\}_{j=0}^{n}$, we have that \n",
    "\n",
    "\\begin{align}\n",
    "P_{n}(x) = & \\sum_{j=0}^{n} f_{j}L_{j}(x)\\\\\n",
    "= & \\frac{1}{2^{n}}\\sum_{j=0}^{n}\\frac{f_{j}}{c_{j}}\\frac{T_{n+1}(x)}{x-x_{j}}, ~ c_{j} = \\prod_{l=0,l\\neq j}^{n}\\left(x_{j}-x_{l}\\right)\n",
    "\\end{align}\n",
    "\n",
    "From this then, we can build an approximation to differentiation using Chebyshev nodes by finding\n",
    "\n",
    "$$\n",
    "\\left.\\frac{dP_{n}}{dx}\\right|_{x=x_{k}} = \\frac{1}{2^{n}}\\sum_{j=0}^{n}\\frac{f_{j}}{c_{j}}\\left.\\frac{d}{dx}\\left(\\frac{T_{n+1}(x)}{x-x_{j}}\\right)\\right|_{x=x_{k}}\n",
    "$$\n",
    "\n",
    "Using some effort (which you do not need to recreate), we then have that \n",
    "\n",
    "$$\n",
    "\\left.\\frac{dP_{n}}{dx}\\right|_{x=x_{k}} = \\frac{(n+1)(-1)^{k}}{2^{n}\\tilde{x}_{k}}\\sum_{j=0}^{n}\\frac{d_{kj}}{c_{j}}f_{j}, \n",
    "$$\n",
    "\n",
    "where\n",
    "\n",
    "$$\n",
    "\\tilde{x}_{k} = \\sin\\left(\\pi \\frac{2k+1}{2n+2} \\right), ~ c_{j} = \\prod_{l=0,l\\neq j}^{n}\\left(x_{j}-x_{l}\\right).\n",
    "$$\n",
    "\n",
    "and \n",
    "\n",
    "$$\n",
    "d_{kj} = \\left\\{\\begin{array}{rl}\n",
    "\\frac{x_{k}}{2(1-x_{k}^{2})} & j = k \\\\\n",
    "\\frac{1}{x_{k}-x_{j}} & j\\neq k\n",
    "\\end{array}\n",
    "\\right.\n",
    "$$\n",
    "\n",
    "Now, for given data $\\left\\{x_{j}, f_{j} \\right\\}_{j=0}^{n}$\n",
    "\n",
    "(d) (4 pts) Write a program which implements the above approximation for $f'(x)$ over the Chebyshev nodes.  Note, you may want to try to store the necessary information in a matrix and then use matrix-vector multiplication to compute your result.  Otherwise, just use nested for loops.  \n",
    "\n",
    "(e) (3 pts) For the function $f(x)=1/(1+x^{2})$, determine the maximum error in your approximation of the derivative over the interval $-1\\leq x \\leq 1$ as you vary the number of interpolation points $n+1$.  "
   ]
  },
  {
   "cell_type": "markdown",
   "metadata": {},
   "source": [
    "#present your work for part 4(a) \n",
    "$$\n",
    "\\begin{align}\n",
    "& T_{2}(x) = \\cos(2\\theta) \\\\\n",
    "& = \\cos^{2}(\\theta) - \\sin^{2}(\\theta) \\\\\n",
    "& = \\cos^{2}(\\theta) - \\Big(1-\\cos^{2}(\\theta)\\Big) \\\\\n",
    "& = \\cos^{2}(\\theta) + \\cos^{2}(\\theta) - 1 \\\\\n",
    "& = 2\\cos^{2}(\\theta) - 1 \\\\\n",
    "& T_{2}(x) = 2x^{2} - 1 \\\\\n",
    "\\end{align}\n",
    "$$"
   ]
  },
  {
   "cell_type": "markdown",
   "metadata": {},
   "source": [
    "#present your work for part 4(b) \n",
    "\n",
    "$$\n",
    "\\begin{align}\n",
    "& T_{n+1}(x) = \\cos((n+1)\\theta) \\\\\n",
    "& = \\cos(n\\theta)\\cos(\\theta) - \\sin(n\\theta)\\sin(\\theta) \\\\\n",
    "& = \\cos(n\\theta)\\cos(\\theta) - \\big[\\sin((n-1)\\theta)\\cos(\\theta) + \\cos((n-1)\\theta)\\sin(\\theta)\\big]\\sin(\\theta) \\\\\n",
    "& = \\cos(n\\theta)\\cos(\\theta) - \\big[\\sin((n-1)\\theta)\\sin(\\theta)\\cos(\\theta)+\\cos((n-1)\\theta)\\sin^{2}(\\theta)\\big] \\\\\n",
    "& = \\cos(n\\theta)\\cos(\\theta) - \\big[\\big[\\cos(n-1)\\theta)\\cos(\\theta) - \\cos(n\\theta)\\big]\\cos(\\theta) + \\cos((n-1)\\theta)\\sin^{2}(\\theta)\\big] \\\\\n",
    "& = \\cos(n\\theta)\\cos(\\theta) - \\big[\\cos(n-1)\\theta)\\cos^{2}(\\theta) - \\cos(n\\theta)\\cos(\\theta) + \\cos((n-1)\\theta)\\sin^{2}(\\theta)\\big] \\\\\n",
    "& = 2\\cos(n\\theta)\\cos(\\theta) - \\cos((n-1)\\theta)(cos^{2}(\\theta) + sin^{2}(\\theta)) \\\\\n",
    "\\end{align}\n",
    "$$\n",
    "\n",
    "$$\n",
    "\\begin{align}\n",
    "& \\text{ Base case (} n=1 \\text{):} \\\\\n",
    "& T_{1}(x) = \\cos(\\cos^{-1}(x)) = x \\\\\n",
    "\\end{align}\n",
    "$$\n",
    "\n",
    "$$\n",
    "\\begin{align}\n",
    "& \\text{ Induction case (} n = n+1 \\text{):} \\\\\n",
    "& T_{n+1}(x) = \\cos((n+1)\\cos^{-1}(x)) \\\\\n",
    "& = \\cos(n\\cos^{-1}(x) + cox^{-1}(x)) \\\\\n",
    "& = \\cos(n\\cos^{-1}(x))\\cos(\\cos^{-1}(x)) - \\sin(n\\cos^{-1}(x))\\sin(\\cos^{-1}(x)) \\\\\n",
    "& = \\cos(n\\cos^{-1}(x))x - \\sin(n\\cos^{1}(x))\\sin(\\cos^{-1}(x))\\\\\n",
    "\\end{align}\n",
    "$$\n",
    "\n",
    "$$\n",
    "\\begin{align}\n",
    "& T_{n+1}(x) + T_{n-1}(x) = 2\\cos(n\\cos^{-1}(x))x \\\\\n",
    "& T_{n+1}(x) + T_{n-1}(x) = 2T_{n}(x)\\\\\n",
    "& \\implies T_{n+1}(x) = 2xT_{n}(x) - T_{n-1}(x) \\\\\n",
    "\\end{align}\n",
    "$$"
   ]
  },
  {
   "cell_type": "markdown",
   "metadata": {},
   "source": [
    "#present your work for part 4(c) \n",
    "$$\n",
    "\\begin{align}\n",
    "& \\cos(\\theta) = 0 ~~when ~~\\theta = (2j+1)\\frac{\\pi}{2} \\\\\n",
    "& \\implies (n+1)\\cos^{-1}(x) = (2j+1)\\frac{\\pi}{2} \\\\\n",
    "& \\cos^{-1}(x) = \\frac{(2j+1)\\pi}{2(n+1)} \\\\\n",
    "& \\cos\\Big(\\cos^{-1}(x)\\Big) = \\cos\\Big(\\frac{(2j+1)\\pi}{2(n+1)}\\Big) \\\\\n",
    "& x = \\cos\\Big(\\pi\\frac{(2j+1)}{2n+2)}\\Big)\n",
    "\\end{align}\n",
    "$$"
   ]
  },
  {
   "cell_type": "code",
   "execution_count": 16,
   "metadata": {},
   "outputs": [],
   "source": [
    "#present your work for part 4(d) "
   ]
  },
  {
   "cell_type": "code",
   "execution_count": 17,
   "metadata": {},
   "outputs": [],
   "source": [
    "#present your work for part 4(e) "
   ]
  },
  {
   "cell_type": "code",
   "execution_count": null,
   "metadata": {},
   "outputs": [],
   "source": []
  }
 ],
 "metadata": {
  "kernelspec": {
   "display_name": "Python 2",
   "language": "python",
   "name": "python2"
  },
  "language_info": {
   "codemirror_mode": {
    "name": "ipython",
    "version": 2
   },
   "file_extension": ".py",
   "mimetype": "text/x-python",
   "name": "python",
   "nbconvert_exporter": "python",
   "pygments_lexer": "ipython2",
   "version": "2.7.15"
  }
 },
 "nbformat": 4,
 "nbformat_minor": 2
}
