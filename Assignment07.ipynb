{
 "cells": [
  {
   "cell_type": "markdown",
   "metadata": {},
   "source": [
    "# Assignment 7: Due March 31st"
   ]
  },
  {
   "cell_type": "code",
   "execution_count": 1,
   "metadata": {},
   "outputs": [],
   "source": [
    "import numpy as np\n",
    "import matplotlib.pyplot as plt\n",
    "%matplotlib inline"
   ]
  },
  {
   "cell_type": "markdown",
   "metadata": {},
   "source": [
    "**Problem 1**: (15pts) - Given that \n",
    "\n",
    "$$\n",
    "e^{t} = \\sum_{j=0}^{\\infty}\\frac{t^{j}}{j!}\n",
    "$$\n",
    "\n",
    "1a) 6pts - Using the Taylor series given, develop a tolerance based, recursive, vectorized program which computes the error function $erf(x)$ where\n",
    "\n",
    "$$\n",
    "erf(x) = \\frac{2}{\\sqrt{\\pi}}\\int_{0}^{x} e^{-t^{2}}dt.\n",
    "$$\n",
    "\n",
    "1b) 6pts - Plot this function for $0\\leq x \\leq L_{x}$ for $L_{x}=5,6$.  How does changing your tolerance affect these plots?  Labels and legends as always for the graphs.  \n",
    "\n",
    "1c) 3pts - Can you infer a trend as $x\\rightarrow \\infty$ for $erf(x)$?"
   ]
  },
  {
   "cell_type": "code",
   "execution_count": 2,
   "metadata": {},
   "outputs": [],
   "source": [
    "#1a. - Function\n",
    "def error_function(x, tol):\n",
    "    aj = np.array(x)\n",
    "    total = np.array(x)\n",
    "    j = 1.\n",
    "    x_squared = x**2\n",
    "    while (np.max(np.abs(aj))) > tol:\n",
    "        aj *= -x_squared*(2*j-1) / (j*(2*j+1))\n",
    "        total += aj\n",
    "        j += 1\n",
    "    pi = np.pi\n",
    "    return (2/np.sqrt(pi))*total"
   ]
  },
  {
   "cell_type": "code",
   "execution_count": 3,
   "metadata": {},
   "outputs": [
    {
     "data": {
      "text/plain": [
       "<matplotlib.legend.Legend at 0x11622ff90>"
      ]
     },
     "execution_count": 3,
     "metadata": {},
     "output_type": "execute_result"
    },
    {
     "data": {
      "image/png": "[encoded data removed]",
      "text/plain": [
       "<Figure size 432x288 with 1 Axes>"
      ]
     },
     "metadata": {
      "needs_background": "light"
     },
     "output_type": "display_data"
    }
   ],
   "source": [
    "#1b. - Plotting\n",
    "L1 = 5\n",
    "L2 = 6\n",
    "\n",
    "xvals1 = np.linspace(0, L1, int(1e5)+1)\n",
    "xvals2 = np.linspace(0, L2, int(1e5)+1)\n",
    "\n",
    "yvals1 = error_function(xvals1, 1e-4)\n",
    "yvals2 = error_function(xvals1, 1e-8)\n",
    "\n",
    "yvals3 = error_function(xvals2, 1e-4)\n",
    "yvals4 = error_function(xvals2, 1e-8)\n",
    "\n",
    "plt.plot(xvals1, yvals1, color = 'b', ls = '-', label = '$0 \\leq x \\leq 5, tol = 1e-4$') # 0 <= x <= 5, tol = 1e-4\n",
    "plt.plot(xvals1, yvals2, color = 'g', ls = '-', label = '$0 \\leq x \\leq 5, tol = 1e-8$') # 0 <= x <= 5, tol = 1e-8\n",
    "\n",
    "plt.plot(xvals2, yvals3, color = 'r', ls = '-', label = '$0 \\leq x \\leq 6, tol = 1e-4$') # 0 <= x <= 6 ,tol = 1e-4\n",
    "plt.plot(xvals2, yvals4, color = 'c', ls = '-', label = '$0 \\leq x \\leq 6, tol = 1e-8$') # 0 <= x <= 6, tol = 1e-8\n",
    "\n",
    "plt.title('$Error\\ Function, \\ er\\ f(x)$')\n",
    "plt.xlabel('$x$')\n",
    "plt.ylabel('$er\\ f(x)$')\n",
    "plt.legend()\n",
    "\n",
    "#There seems to be not much of a difference between the lines when I change the tolerance value"
   ]
  },
  {
   "cell_type": "code",
   "execution_count": 4,
   "metadata": {},
   "outputs": [],
   "source": [
    "#1c. - Comments\n",
    "# It appears that the error function is approaching 1 but never actually reaching 1\n",
    "# When I graph the function on Desmos, the value that is returned is 0.999999999998"
   ]
  },
  {
   "cell_type": "markdown",
   "metadata": {},
   "source": [
    "**Problem 2**: (10 pts) The Hermite polynomials $H_{n}(x)$ are such that $H_{0}(x)=1$, $H_{1}(x)=2x$, and for $n\\geq2$, $H_{n}(x)$ satisfies the recurrence relationship\n",
    "\n",
    "$$\n",
    "H_{n}(x) = 2xH_{n-1}(x) -2(n-1)H_{n-2}(x), ~ n\\geq 2. \n",
    "$$\n",
    "\n",
    "* (6 pts) Write a recursive program to find any Hermite polynomial $H_{n}(x)$.\n",
    "* (4 pts) Generate a plot of the first six Hermite polyonmials on the interval $-2\\leq x \\leq 2$.  Your figure should be labeled, have a legend, and different colors should be used to distinguish the different Hermite polynmials in the plot.  "
   ]
  },
  {
   "cell_type": "code",
   "execution_count": 5,
   "metadata": {},
   "outputs": [],
   "source": [
    "#2. - Workspace\n",
    "\n",
    "# When n = 0: H_{0}(x) = 1\n",
    "# When n = 1: H_{1}(X) = 2x\n",
    "\n",
    "# When n = 2: H_{2}(x) = 2x*H_{2-1}(x) - 2(2-1)*H_{2-2}(x) = 2x*H_{1}(x) - 2(1)*H_{0}(x)\n",
    "                                                # H_{2}(x) = 2x*2x - 2\n",
    "                                                # H_{2}(x) = 4x^2 - 2\n",
    "    \n",
    "# When n = 3: H_{3}(x) = 2x*H_{3-1}(x) - 2(3-1)*H_{3-2}(x) = 2x*H_{2}(x) - 2(2)*H_{1}(x)\n",
    "                                                # H_{3}(x) = 2x*(4x^2 - 2) - 4*2x\n",
    "                                                # H_{3}(x) = 8x^3 - 4x - 8x\n",
    "                                                # H_{3}(x) = 8x^3 - 12x\n",
    "        \n",
    "# When n = 4: H_{4}(x) = 2x*H_{4-1}(x) - 2(4-1)*H_{4-2}(x) = 2x*H_{3}(x) - 2(3)*H_{2}(x)\n",
    "                                                # H_{4}(x) = 2x*(8x^3 - 10x) - 6*(4x^2 - 2)\n",
    "                                                # H_{4}(x) = 16x^4 - 20x^2 - 24x^2 - 2\n",
    "                                                # H_{4}(x) = 16x^4 - 44x^2 + 12\n",
    "# .\n",
    "# .\n",
    "# .\n",
    "# . \n",
    "\n",
    "# When n = n: H_{n}(X) = 2x*H_{n-1}(x)-2(n-1)*H_{n-1}(x)"
   ]
  },
  {
   "cell_type": "code",
   "execution_count": 6,
   "metadata": {},
   "outputs": [],
   "source": [
    "#2. - Continued (Function)\n",
    "def hermite_function(x, n):\n",
    "    H0 = 1.\n",
    "    H1 = 2.*x\n",
    "    counter = 2.\n",
    "    if n == 0:\n",
    "        return np.ones(x.size)\n",
    "    elif n == 1:\n",
    "        return 2*x\n",
    "    while n >= counter:\n",
    "        Hn = 2.*x*H1 - 2.*(counter-1)*H0\n",
    "        H0 = H1\n",
    "        H1 = Hn\n",
    "        counter += 1.       \n",
    "    return Hn"
   ]
  },
  {
   "cell_type": "code",
   "execution_count": 7,
   "metadata": {},
   "outputs": [
    {
     "data": {
      "text/plain": [
       "<matplotlib.legend.Legend at 0x116f3c090>"
      ]
     },
     "execution_count": 7,
     "metadata": {},
     "output_type": "execute_result"
    },
    {
     "data": {
      "image/png": "[encoded data removed]",
      "text/plain": [
       "<Figure size 432x288 with 1 Axes>"
      ]
     },
     "metadata": {
      "needs_background": "light"
     },
     "output_type": "display_data"
    }
   ],
   "source": [
    "#2. - Continued (Plotting)\n",
    "xvals = np.linspace(-2, 2, int(1e5)+1)\n",
    "yvals1 = hermite_function(xvals, 0)\n",
    "yvals2 = hermite_function(xvals, 1)\n",
    "yvals3 = hermite_function(xvals, 2)\n",
    "yvals4 = hermite_function(xvals, 3)\n",
    "yvals5 = hermite_function(xvals, 4)\n",
    "yvals6 = hermite_function(xvals, 5)\n",
    "\n",
    "plt.plot(xvals, yvals1, color = 'b', ls = '-', label = '$n=0$')\n",
    "plt.plot(xvals, yvals2, color = 'g', ls = '-', label = '$n=1$')\n",
    "plt.plot(xvals, yvals3, color = 'r', ls = '-', label = '$n=2$')\n",
    "plt.plot(xvals, yvals4, color = 'c', ls = '-', label = '$n=3$')\n",
    "plt.plot(xvals, yvals5, color = 'm', ls = '-', label = '$n=4$')\n",
    "plt.plot(xvals, yvals6, color = 'k', ls = '-', label = '$n=5$')\n",
    "\n",
    "plt.title('$Hermite\\ Polynomials, \\ H_{n}(x)$')\n",
    "plt.xlabel('$x$')\n",
    "plt.ylabel('$H_{n}(x)$')\n",
    "plt.ylim(-40, 40)\n",
    "plt.legend()"
   ]
  },
  {
   "cell_type": "markdown",
   "metadata": {},
   "source": [
    "**Problem 3:** (10 pts) Given that  \n",
    "\n",
    "$$\n",
    "F = \\frac{A}{\\int_0^{T_1} c(t)~dt + \\int_{T_1}^{T_2} m(t) ~ dt},\n",
    "$$\n",
    "\n",
    "where $A = 5$, $T_1=\\pi/4$, $T_2=\\pi/2$, \n",
    "\n",
    "$$ c(t) = \\cos(t) - sin(t) \\quad \\text{and}  \\quad m(t) = \\sin(t) - cos(t).$$\n",
    "\n",
    "- Use Trapezoid Method to compute the denominator of the above formula and then compute $F$\n",
    "\n",
    "- Use Simpson Method to compute the denominator of the above formula and then compute $F$"
   ]
  },
  {
   "cell_type": "code",
   "execution_count": 8,
   "metadata": {},
   "outputs": [],
   "source": [
    "#3.\n",
    "A = 5\n",
    "T1 = np.pi/4.\n",
    "T2 = np.pi/2.\n",
    "N = 100\n",
    "\n",
    "c = lambda t: np.cos(t) - np.sin(t)\n",
    "m = lambda t: np.sin(t) - np.cos(t)"
   ]
  },
  {
   "cell_type": "code",
   "execution_count": 9,
   "metadata": {},
   "outputs": [
    {
     "name": "stdout",
     "output_type": "stream",
     "text": [
      "The integral of c(t) from a = 0 to b = T1, using the trapezoid method, is:  0.414211433139657\n",
      "The integral of m(t) from a = T1 to b = T2, using the trapezoid method, is:  0.4142114331396569\n",
      "F = 6.035564931297035\n"
     ]
    }
   ],
   "source": [
    "#Integral of c(t) using the trapezoid method\n",
    "def trapezoid_method_of_c(a, b, N, c):\n",
    "    Nint = int(N)\n",
    "    tvals = np.linspace(a, b, Nint + 1)\n",
    "    cvals = c(tvals)\n",
    "    dx = (b - a) / N\n",
    "    return dx/2.*(cvals[0] + cvals[Nint] + 2.*np.sum(cvals[1:Nint]))\n",
    "\n",
    "print \"The integral of c(t) from a = 0 to b = T1, using the trapezoid method, is: \",trapezoid_method_of_c(0, T1, N, c)\n",
    "\n",
    "#Integral of m(t) using the trapezoid method\n",
    "def trapezoid_method_of_m(a, b, N, c):\n",
    "    Nint = int(N)\n",
    "    tvals = np.linspace(a, b, Nint + 1)\n",
    "    mvals = m(tvals)\n",
    "    dx = (b - a) / N\n",
    "    return dx/2.*(mvals[0] + mvals[Nint] + 2.*np.sum(mvals[1:Nint]))\n",
    "\n",
    "print \"The integral of m(t) from a = T1 to b = T2, using the trapezoid method, is: \", trapezoid_method_of_m(T1, T2, N, m)\n",
    "\n",
    "denominator = trapezoid_method_of_c(0, T1, N, c) + trapezoid_method_of_m(T1, T2, N, m)\n",
    "F = A / denominator\n",
    "print \"F = \" + `F`"
   ]
  },
  {
   "cell_type": "code",
   "execution_count": 10,
   "metadata": {},
   "outputs": [
    {
     "name": "stdout",
     "output_type": "stream",
     "text": [
      "The integral of c(t) from a = 0 to b = T1, using simpson's method, is:  0.4142135623736423\n",
      "The integral of c(t) from a = T1 to b = T, using simpson's method, is:  0.4142135623736423\n",
      "F = 6.035533905924764\n"
     ]
    }
   ],
   "source": [
    "#Integral of c(t) using simpson's method\n",
    "def simpons_method_of_c(a, b, N, c):\n",
    "    N = int(2*N)\n",
    "    tvals = np.linspace(a, b, N+1)\n",
    "    cvals = c(tvals)\n",
    "    dx = float(b-a)/float(N)\n",
    "    return (dx/3.)*(cvals[0] + cvals[N]+2.*np.sum(cvals[2:N-1:2])+4.*np.sum(cvals[1:N:2]))\n",
    "\n",
    "print \"The integral of c(t) from a = 0 to b = T1, using simpson's method, is: \", simpons_method_of_c(0, T1, N, c)\n",
    "\n",
    "#Integral of m(t) using simpson's method\n",
    "def simpons_method_of_m(a, b, N, c):\n",
    "    N = int(2*N)\n",
    "    tvals = np.linspace(a, b, N+1)\n",
    "    mvals = m(tvals)\n",
    "    dx = float(b-a)/float(N)\n",
    "    return (dx/3.)*(mvals[0] + mvals[N]+2.*np.sum(mvals[2:N-1:2])+4.*np.sum(mvals[1:N:2]))\n",
    "\n",
    "print \"The integral of c(t) from a = T1 to b = T, using simpson's method, is: \", simpons_method_of_c(T1, T2, N, m)\n",
    "\n",
    "denominator = simpons_method_of_c(0, T1, N, c) + simpons_method_of_m(T1, T2, N, m)\n",
    "F = A / denominator\n",
    "print \"F = \" + `F`"
   ]
  },
  {
   "cell_type": "markdown",
   "metadata": {},
   "source": [
    "**Problem 4** (5 pt) Compute a root of the function $$f(x) = x^2 - 2$$ \n",
    "- using the _secant method_ with initial guess $x_0 = 1.5$ and $x_1=1$.\n",
    "- Choose a different initial guess and compute another root of the function $f(x)$."
   ]
  },
  {
   "cell_type": "code",
   "execution_count": 11,
   "metadata": {},
   "outputs": [],
   "source": [
    "#4. \n",
    "def secant_method(f, x0, x1, tol):\n",
    "    f0 = f(x0)\n",
    "    f1 = f(x1)\n",
    "    x2 = x1 - f1*(x1-x0)/(f1-f0)\n",
    "    \n",
    "    while np.abs(f1) >= tol:\n",
    "        x0 = x1\n",
    "        x1 = x2\n",
    "        f0 = f1\n",
    "        f1 = f(x1)\n",
    "        x2 = x1 - f1*(x1-x0)/(f1-f0)\n",
    "    \n",
    "    print \"A root of f(x) is: %1.15f\" %x2"
   ]
  },
  {
   "cell_type": "code",
   "execution_count": 12,
   "metadata": {},
   "outputs": [
    {
     "name": "stdout",
     "output_type": "stream",
     "text": [
      "A root of f(x) is: 1.414213551646055\n"
     ]
    }
   ],
   "source": [
    "f = lambda x: (x**2.) - 2.\n",
    "secant_method(f, 1.5, 1, 1e-4)"
   ]
  },
  {
   "cell_type": "code",
   "execution_count": 13,
   "metadata": {},
   "outputs": [
    {
     "name": "stdout",
     "output_type": "stream",
     "text": [
      "A root of f(x) is: 1.414213575081493\n"
     ]
    }
   ],
   "source": [
    "secant_method(f, 3, 2, 1e-4)"
   ]
  },
  {
   "cell_type": "code",
   "execution_count": 14,
   "metadata": {},
   "outputs": [
    {
     "data": {
      "text/plain": [
       "[<matplotlib.lines.Line2D at 0x11593eb50>]"
      ]
     },
     "execution_count": 14,
     "metadata": {},
     "output_type": "execute_result"
    },
    {
     "data": {
      "image/png": "[encoded data removed]",
      "text/plain": [
       "<Figure size 432x288 with 1 Axes>"
      ]
     },
     "metadata": {
      "needs_background": "light"
     },
     "output_type": "display_data"
    }
   ],
   "source": [
    "xvals = np.linspace(-2.5, 2.5, int(1e5) + 1)\n",
    "yvals = f(xvals)\n",
    "zvals = np.zeros(xvals.size)\n",
    "\n",
    "plt.plot(xvals, yvals)\n",
    "plt.plot(xvals, zvals)"
   ]
  },
  {
   "cell_type": "code",
   "execution_count": null,
   "metadata": {},
   "outputs": [],
   "source": []
  }
 ],
 "metadata": {
  "kernelspec": {
   "display_name": "Python 2",
   "language": "python",
   "name": "python2"
  },
  "language_info": {
   "codemirror_mode": {
    "name": "ipython",
    "version": 2
   },
   "file_extension": ".py",
   "mimetype": "text/x-python",
   "name": "python",
   "nbconvert_exporter": "python",
   "pygments_lexer": "ipython2",
   "version": "2.7.15"
  }
 },
 "nbformat": 4,
 "nbformat_minor": 2
}
