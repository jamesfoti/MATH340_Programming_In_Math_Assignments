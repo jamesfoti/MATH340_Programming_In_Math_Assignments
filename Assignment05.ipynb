{
 "cells": [
  {
   "cell_type": "markdown",
   "metadata": {},
   "source": [
    "# Assignment 5\n",
    "## Due Monday, March 4th"
   ]
  },
  {
   "cell_type": "code",
   "execution_count": 1,
   "metadata": {},
   "outputs": [],
   "source": [
    "import numpy as np\n",
    "import matplotlib.pyplot as plt\n",
    "from time import time\n",
    "%matplotlib inline\n",
    "import math as mth"
   ]
  },
  {
   "cell_type": "markdown",
   "metadata": {},
   "source": [
    "**Problem 1**  \n",
    "[a] (3 points) Write a code which computes the following sum\n",
    "$$\n",
    "\\sum_{j=0}^\\infty e^{-j}\n",
    "$$ \n",
    "\n",
    "using recursion and a tolerance based while loop approach.\n",
    "\n",
    "[b] (2 points) Run your code in Problem 1[a] for tolerance 1e-2, 1e-4, 1e-6 and 1e-8."
   ]
  },
  {
   "cell_type": "markdown",
   "metadata": {},
   "source": [
    "[c] (3 points) Observe that sum in Problem 1[a] is a geometric series. Using the formula for the sum of a geometric progression, compute \n",
    "$$\n",
    "\\sum_{j=0}^\\infty e^{-j}\n",
    "$$\n",
    "\n",
    "to 9 significant figures."
   ]
  },
  {
   "cell_type": "markdown",
   "metadata": {},
   "source": [
    "[d] (2 points) Compare your result from Problem 1[b] and [c] and discuss your observation.  "
   ]
  },
  {
   "cell_type": "markdown",
   "metadata": {},
   "source": [
    "_Answer to Problem 1_"
   ]
  },
  {
   "cell_type": "code",
   "execution_count": 2,
   "metadata": {},
   "outputs": [],
   "source": [
    "#1a.\n",
    "def SummationOfeToTheNegativeJ(tol):\n",
    "    aj = 1 #When j = 0.\n",
    "    total = 1 #When j = 0.\n",
    "    ej = 1/np.e\n",
    "    while (np.abs(aj) > tol):\n",
    "        aj *= ej\n",
    "        total += aj\n",
    "    return total"
   ]
  },
  {
   "cell_type": "code",
   "execution_count": 3,
   "metadata": {},
   "outputs": [
    {
     "name": "stdout",
     "output_type": "stream",
     "text": [
      "1.57805537866\n",
      "1.58195028517\n",
      "1.58197622294\n",
      "1.58197670361\n"
     ]
    }
   ],
   "source": [
    "#1b.\n",
    "print SummationOfeToTheNegativeJ(1e-2)\n",
    "print SummationOfeToTheNegativeJ(1e-4)\n",
    "print SummationOfeToTheNegativeJ(1e-6)\n",
    "print SummationOfeToTheNegativeJ(1e-8)"
   ]
  },
  {
   "cell_type": "markdown",
   "metadata": {},
   "source": [
    "1c.\n",
    "\n",
    "$$\n",
    "\\sum_{j=0}^\\infty e^{-j}\n",
    "$$\n",
    "\n",
    "$$\n",
    "e^{-j} = \\frac{1}{e^{j}} = \\Big(\\frac{1}{e}\\Big)^{j}\n",
    "$$\n",
    "\n",
    "$$\n",
    "r = \\frac{1}{e}\n",
    "$$\n",
    "\n",
    "$$\n",
    "\\text{This series converges because -1 < r < 1.}\n",
    "$$\n",
    "\n",
    "$$\n",
    "\\text{Sum} = \\frac{\\text{First Term}}{1 - r}, \\text{ First Term} = \\Big(\\frac{1}{e}\\Big)^{0} = 1\n",
    "$$\n",
    "\n",
    "$$\n",
    "\\text{Sum} = \\frac{1}{1-\\frac{1}{e}} = \\frac{1}{\\frac{e-1}{e}} = \\frac{e}{e-1} \\approx 1.581976707\n",
    "$$"
   ]
  },
  {
   "cell_type": "markdown",
   "metadata": {},
   "source": [
    "1d.\n",
    "$$\n",
    "\\text{It appears that the closest value to the sum (found by using the infinite geometric series formula)}\n",
    "$$\n",
    "\n",
    "$$\n",
    "\\text{is when the tolerance value of 1e-8 is plugged into the python function above.}\n",
    "$$"
   ]
  },
  {
   "cell_type": "markdown",
   "metadata": {},
   "source": [
    "**Problem 2**"
   ]
  },
  {
   "cell_type": "markdown",
   "metadata": {},
   "source": [
    "[2a] (5 points) Write a code to graph the following function in the interval [-1,4]\n",
    "\n",
    "$$\n",
    "y(x) = \\left\\{\n",
    "\\begin{array}{rl}\n",
    "0 & \\quad \\text{for} \\quad x < 0 \\\\\n",
    "x & \\quad \\text{for} \\quad 0\\leq x \\leq 1 \\\\\n",
    "2-x & \\quad \\text{for} \\quad 1 < x \\leq 2 \\\\\n",
    "0 & \\quad \\text{for} \\quad x > 2 \n",
    "\\end{array}\n",
    "\\right.\n",
    "$$\n"
   ]
  },
  {
   "cell_type": "markdown",
   "metadata": {},
   "source": [
    "[2b]  (1 point) Create 11 points from -1 to 4 and assign it to x. Using this x value, plot y(x)"
   ]
  },
  {
   "cell_type": "markdown",
   "metadata": {},
   "source": [
    "[2c] (1 point)  Create 1e1 points from -1 to 4 and assign it to x. Using this x value, plot y(x)"
   ]
  },
  {
   "cell_type": "markdown",
   "metadata": {},
   "source": [
    "[2d] (1 point)  Create 1e5 points from -1 to 4 and assign it to x. Using this x value, plot y(x)"
   ]
  },
  {
   "cell_type": "markdown",
   "metadata": {},
   "source": [
    "[2e] (2 point) Compare your plots for 2[b], [c] and [d]. Discuss your observations. "
   ]
  },
  {
   "cell_type": "markdown",
   "metadata": {},
   "source": [
    "_Answer to Problem 2_"
   ]
  },
  {
   "cell_type": "code",
   "execution_count": 4,
   "metadata": {},
   "outputs": [],
   "source": [
    "#2a.\n",
    "def y(x):\n",
    "    if x < 0:\n",
    "        return 0\n",
    "    elif x >= 0 and x <= 1:\n",
    "        return x\n",
    "    elif x > 1 and x <= 2:\n",
    "        return (2-x)\n",
    "    elif x > 2:\n",
    "        return 0"
   ]
  },
  {
   "cell_type": "code",
   "execution_count": 5,
   "metadata": {},
   "outputs": [
    {
     "data": {
      "text/plain": [
       "Text(0,0.5,'$y(x)$')"
      ]
     },
     "execution_count": 5,
     "metadata": {},
     "output_type": "execute_result"
    },
    {
     "data": {
      "image/png": "[encoded data removed]",
      "text/plain": [
       "<Figure size 432x288 with 1 Axes>"
      ]
     },
     "metadata": {
      "needs_background": "light"
     },
     "output_type": "display_data"
    }
   ],
   "source": [
    "#2b.\n",
    "xvals1 = np.linspace(-1, 4, 11)\n",
    "yvals1 = [y(i) for i in xvals1]\n",
    "plt.plot(xvals1, yvals1)\n",
    "plt.xlabel('x')\n",
    "plt.ylabel('$y(x)$')"
   ]
  },
  {
   "cell_type": "code",
   "execution_count": 6,
   "metadata": {},
   "outputs": [
    {
     "name": "stderr",
     "output_type": "stream",
     "text": [
      "/anaconda2/lib/python2.7/site-packages/ipykernel_launcher.py:2: DeprecationWarning: object of type <type 'float'> cannot be safely interpreted as an integer.\n",
      "  \n"
     ]
    },
    {
     "data": {
      "text/plain": [
       "Text(0,0.5,'$y(x)$')"
      ]
     },
     "execution_count": 6,
     "metadata": {},
     "output_type": "execute_result"
    },
    {
     "data": {
      "image/png": "[encoded data removed]",
      "text/plain": [
       "<Figure size 432x288 with 1 Axes>"
      ]
     },
     "metadata": {
      "needs_background": "light"
     },
     "output_type": "display_data"
    }
   ],
   "source": [
    "#2c.\n",
    "xvals2 = np.linspace(-1, 4, 1e1)\n",
    "yvals2 = [y(i) for i in xvals2]\n",
    "plt.plot(xvals2, yvals2)\n",
    "plt.xlabel('x')\n",
    "plt.ylabel('$y(x)$')"
   ]
  },
  {
   "cell_type": "code",
   "execution_count": 7,
   "metadata": {},
   "outputs": [
    {
     "name": "stderr",
     "output_type": "stream",
     "text": [
      "/anaconda2/lib/python2.7/site-packages/ipykernel_launcher.py:2: DeprecationWarning: object of type <type 'float'> cannot be safely interpreted as an integer.\n",
      "  \n"
     ]
    },
    {
     "data": {
      "text/plain": [
       "Text(0,0.5,'$y(x)$')"
      ]
     },
     "execution_count": 7,
     "metadata": {},
     "output_type": "execute_result"
    },
    {
     "data": {
      "image/png": "[encoded data removed]",
      "text/plain": [
       "<Figure size 432x288 with 1 Axes>"
      ]
     },
     "metadata": {
      "needs_background": "light"
     },
     "output_type": "display_data"
    }
   ],
   "source": [
    "#2d.\n",
    "xvals3 = np.linspace(-1, 4, 1e5)\n",
    "yvals3 = [y(i) for i in xvals3]\n",
    "plt.plot(xvals3, yvals3)\n",
    "plt.xlabel('x')\n",
    "plt.ylabel('$y(x)$')"
   ]
  },
  {
   "cell_type": "markdown",
   "metadata": {},
   "source": []
  },
  {
   "cell_type": "markdown",
   "metadata": {},
   "source": [
    "**Problem 3**:  Given that\n",
    "\n",
    "$$\n",
    "\\cos(x) = \\sum_{j=0}^{\\infty}\\frac{(-1)^{j}}{(2j)!}x^{2j}, ~ \\sin(x) = \\sum_{j=0}^{\\infty}\\frac{(-1)^{j}}{(2j+1)!}x^{2j+1}\n",
    "$$\n",
    "\n",
    "and \n",
    "\n",
    "$$\n",
    "\\cos(a-b) = \\cos(a)\\cos(b) + \\sin(a)\\sin(b)\n",
    "$$\n",
    "\n",
    "[a] (4 points) Derive a Taylor series for $$\\cos(2x^4)\\cos(x^4) + \\sin(2x^4)\\sin(x^4)$$ around $x=0$.  \n",
    "\n",
    "[b] (4 points) Using your answer from Problem 3[a], write a code which computes the Taylor series of $$\\cos(2x^4)\\cos(x^4) + \\sin(2x^4)\\sin(x^4)$$ using recursion, vectorization, and a tolerance based while loop approach.\n",
    "\n",
    "[c] (2 pts)  On the interval $[0,\\pi]$, plot the semi-log error in your approximation for tolerance values $10^{-4}$, $10^{-6}$, and $10^{-8}$. Label axes and provide a legend for your graph.  \n",
    "\n",
    "[d] (2pts) Describe your graphs and comment on any trends you observe."
   ]
  },
  {
   "cell_type": "code",
   "execution_count": 8,
   "metadata": {},
   "outputs": [],
   "source": [
    "## _Answer to Problem 3_"
   ]
  },
  {
   "cell_type": "markdown",
   "metadata": {},
   "source": [
    "3a.\n",
    "\n",
    "$$\n",
    "\\cos(a-b) = \\cos(a)\\cos(b) + \\sin(a)\\sin(b)\n",
    "$$\n",
    "\n",
    "$$\n",
    "\\cos(2x^4)\\cos(x^4) + \\sin(2x^4)\\sin(x^4), ~a = 2x^{4}, ~b = x^{4}\n",
    "$$\n",
    "\n",
    "$$\n",
    "=\\cos(2x^{4}-x^{4})\n",
    "$$\n",
    "\n",
    "$$\n",
    "=\\cos(x^{4})\n",
    "$$\n",
    "\n",
    "$$\n",
    "= \\sum_{j=0}^{\\infty}\\frac{(-1)^{j}}{(2j)!}x^{8j}\n",
    "$$"
   ]
  },
  {
   "cell_type": "code",
   "execution_count": 9,
   "metadata": {},
   "outputs": [],
   "source": [
    "#3b.\n",
    "def TaylorApproxCosX4(x, tol):\n",
    "    aj = np.ones(x.size) #When j = 0. np.ones creates an array of all ones. \n",
    "    total = np.ones(x.size) #When j = 0. np.ones creates an array of all ones. \n",
    "    j = 1.\n",
    "    numerator = -x**8.\n",
    "    while (np.max(np.abs(aj)) > tol):\n",
    "        denominator = (2.*j)*((2.*j)-1.)\n",
    "        seriesFunction = numerator / denominator\n",
    "        aj *= seriesFunction\n",
    "        total += aj\n",
    "        j += 1\n",
    "    return total"
   ]
  },
  {
   "cell_type": "code",
   "execution_count": 10,
   "metadata": {},
   "outputs": [
    {
     "data": {
      "text/plain": [
       "<matplotlib.legend.Legend at 0x114d737d0>"
      ]
     },
     "execution_count": 10,
     "metadata": {},
     "output_type": "execute_result"
    },
    {
     "data": {
      "image/png": "[encoded data removed]",
      "text/plain": [
       "<Figure size 432x288 with 1 Axes>"
      ]
     },
     "metadata": {
      "needs_background": "light"
     },
     "output_type": "display_data"
    }
   ],
   "source": [
    "#3c. \n",
    "xvals = np.linspace(0.,np.pi, int(1e4))\n",
    "TRUEyvals = np.cos(xvals**4)\n",
    "\n",
    "#yvals1 = [TaylorApprox(i,1e-4) for i in xInterval] # <-- Slow for-loop\n",
    "#yvals2 = [TaylorApprox(i,1e-6) for i in xInterval] # <-- Slow for-loop\n",
    "#yvals3 = [TaylorApprox(i,1e-8) for i in xInterval] # <-- Slow for-loop\n",
    "\n",
    "yvals1 = TaylorApproxCosX4(xvals, 1e-4) # <-- Vectorized\n",
    "yvals2 = TaylorApproxCosX4(xvals, 1e-6) # <-- Vectorized\n",
    "yvals3 = TaylorApproxCosX4(xvals, 1e-8) # <-- Vectorized\n",
    "\n",
    "error1 = np.ma.log10(np.abs(TRUEyvals - yvals1))\n",
    "error2 = np.ma.log10(np.abs(TRUEyvals - yvals2))\n",
    "error3 = np.ma.log10(np.abs(TRUEyvals - yvals3))\n",
    "\n",
    "plt.plot(xvals, error1, color = 'b', ls = '--', label = \"$10^{-4}$\")\n",
    "plt.plot(xvals, error2, color = 'g', ls = '--', label = \"$10^{-6}$\")\n",
    "plt.plot(xvals, error3, color = 'r', ls = '--', label = \"$10^{-8}$\")\n",
    "\n",
    "plt.xlabel('$cos(x^{4})$')\n",
    "plt.ylabel('$log_{10}Error$')\n",
    "plt.legend()"
   ]
  },
  {
   "cell_type": "code",
   "execution_count": 11,
   "metadata": {},
   "outputs": [],
   "source": [
    "#3d.\n",
    "#The graph looks sort-of like an exponential function. When I increase the amount of spaces\n",
    "#between each point in xvals=np.linspace(0, np.pi, 1e4), more data points are plotted on \n",
    "#the graph above."
   ]
  },
  {
   "cell_type": "markdown",
   "metadata": {},
   "source": [
    "**Problem 4**: \n",
    "\n",
    "[a] (6 points) - Another very important class of special functions are called the _Laguerre Polynomials_, say $L_{n}(x)$, which are defined for non-negative integer $n$ via the series\n",
    "\n",
    "$$\n",
    "L_{n}(x) = \\sum_{k=0}^{n}\\frac{n!}{k!(n-k)!}\\frac{(-1)^k}{k!} x^{k}, ~ -2\\leq x \\leq 2.\n",
    "$$\n",
    "\n",
    "Using a `for`-loop, vectorized, recursive approach, write a function which computes the Laguerre functions for any non-negative integer $n$ \n",
    "\n",
    "[b] (3 points).  Make a plot showing $L_{n}(x)$ for $n=0,1,2,3,4$ on the same graph, using different colors for each different $n$.  \n",
    "\n",
    "[c] (2 points) The plot should have a legend as well as appropriately labeled axes.   "
   ]
  },
  {
   "cell_type": "markdown",
   "metadata": {},
   "source": [
    "[d] (3 points) Write down the expression for $L_{0}(x)$ and $L_{1}(x)$ by replacing $n$ with $0$ and $1$ respectively in the equation for $L_{n}(x)$ above. Compare your expression for $L_{0}(x)$ and $L_{1}(x)$ with the graph in Problem 4[b]. Discuss your observations."
   ]
  },
  {
   "cell_type": "markdown",
   "metadata": {},
   "source": [
    "_Answer to Problem 4_"
   ]
  },
  {
   "cell_type": "code",
   "execution_count": 12,
   "metadata": {},
   "outputs": [],
   "source": [
    "#4a.\n",
    "def LaguerrePolyNomialFunction(x, n):\n",
    "    total = np.ones(x.size) #np.ones(x.size)creates an array of all ones with size x\n",
    "    ak = np.ones(x.size)\n",
    "    for k in xrange(1, int(n)+1):\n",
    "        numerator = (-x*(n-k+1))\n",
    "        denominator = (k**2)\n",
    "        ak *= (numerator/denominator)\n",
    "        total += ak\n",
    "    return total"
   ]
  },
  {
   "cell_type": "code",
   "execution_count": 13,
   "metadata": {},
   "outputs": [
    {
     "data": {
      "text/plain": [
       "<matplotlib.legend.Legend at 0x11571bdd0>"
      ]
     },
     "execution_count": 13,
     "metadata": {},
     "output_type": "execute_result"
    },
    {
     "data": {
      "image/png": "[encoded data removed]",
      "text/plain": [
       "<Figure size 432x288 with 1 Axes>"
      ]
     },
     "metadata": {
      "needs_background": "light"
     },
     "output_type": "display_data"
    }
   ],
   "source": [
    "#4b. and 4c. \n",
    "xvals = np.linspace(-1, 5, int(1e5))\n",
    "yvals1 = LaguerrePolyNomialFunction(xvals, 0)\n",
    "yvals2 = LaguerrePolyNomialFunction(xvals, 1)\n",
    "yvals3 = LaguerrePolyNomialFunction(xvals, 2)\n",
    "yvals4 = LaguerrePolyNomialFunction(xvals, 3)\n",
    "yvals5 = LaguerrePolyNomialFunction(xvals, 4)\n",
    "\n",
    "plt.plot(xvals, yvals1, color = 'b', label = '$L_{0}(x)$')\n",
    "plt.plot(xvals, yvals2, color = 'g', label = '$L_{1}(x)$')\n",
    "plt.plot(xvals, yvals3, color = 'r', label = '$L_{2}(x)$')\n",
    "plt.plot(xvals, yvals4, color = 'c', label = '$L_{3}(x)$')\n",
    "plt.plot(xvals, yvals5, color = 'm', label = '$L_{4}(x)$')\n",
    "\n",
    "plt.xlim(-1,5)\n",
    "plt.ylim(-5, 5)\n",
    "plt.title(\"Laguerre Polynomial Function\")\n",
    "plt.xlabel(\"x\")\n",
    "plt.ylabel(\"$L_{n}(x)$\")\n",
    "plt.legend()"
   ]
  },
  {
   "cell_type": "markdown",
   "metadata": {},
   "source": [
    "4d.\n",
    "$$\n",
    "L_{n}(x) = \\sum_{k=0}^{n}\\frac{n!}{k!(n-k)!}\\frac{(-1)^k}{k!} x^{k}\n",
    "$$\n",
    "\n",
    "$$\n",
    "L_{0}(x) = \\sum_{k=0}^{0}\\frac{0!}{k!(0-k)!}\\frac{(-1)^k}{k!} x^{k} \n",
    "$$\n",
    "\n",
    "$$\n",
    "\\text{When k = 0: }\\frac{0!}{0!(0-0)!}\\frac{(-1)^0}{0!} x^{0} = 1\n",
    "$$\n",
    "\n",
    "$$\n",
    "L_{0}(x) = 1\n",
    "$$\n",
    "\n",
    "$$\n",
    "L_{1}(x) = \\sum_{k=0}^{1}\\frac{1!}{k!(1-k)!}\\frac{(-1)^k}{k!} x^{k} \n",
    "$$\n",
    "\n",
    "$$\n",
    "\\text{When k = 0: } \\frac{1!}{0!(1-0)!}\\frac{(-1)^0}{0!} x^{0} = 1\n",
    "$$\n",
    "\n",
    "$$\n",
    "\\text{When k = 1: } \\frac{1!}{1!(1-1)!}\\frac{(-1)^1}{1!} x^{1} = -x\n",
    "$$\n",
    "\n",
    "$$\n",
    "L_{1}(x) = 1 + (-x) = 1-x\n",
    "$$\n",
    "\n",
    "$$\n",
    "\\text{It looks like } n = 0 \\text{ matches up with } y = 1\n",
    "$$\n",
    "\n",
    "$$\n",
    "\\text{and that } n = 1 \\text{ matches up with } y = 1-x.\n",
    "$$"
   ]
  },
  {
   "cell_type": "markdown",
   "metadata": {},
   "source": [
    "**Problem 5**: 4 pts- Using a vectorized approach, which means no explicit for loops, write a program which finds \n",
    "\n",
    "$$\n",
    "f(n) = \\frac{1}{n}\\sum_{j=1}^{n} \\left(\\left(\\frac{j}{n}\\right)^{5} + 6\\left(\\frac{j}{n}\\right)^{3} \\right)\n",
    "$$\n",
    "\n",
    "\n",
    "for any positive integer n.  "
   ]
  },
  {
   "cell_type": "markdown",
   "metadata": {},
   "source": [
    "_Answer to Problem 5_"
   ]
  },
  {
   "cell_type": "code",
   "execution_count": 14,
   "metadata": {},
   "outputs": [],
   "source": [
    "def f(n):\n",
    "    jInterval = np.linspace(1.,n, n)\n",
    "    insideFunction = np.sum((jInterval/n)**5. + 6.*((jInterval/n)**3.))\n",
    "    outsideFunction = (1./n)\n",
    "    return outsideFunction*(insideFunction)"
   ]
  },
  {
   "cell_type": "code",
   "execution_count": 15,
   "metadata": {},
   "outputs": [
    {
     "name": "stdout",
     "output_type": "stream",
     "text": [
      "7.0\n",
      "3.890625\n",
      "3.045267489711934\n",
      "2.303176440329218\n"
     ]
    }
   ],
   "source": [
    "print f(1)\n",
    "print f(2)\n",
    "print f(3)\n",
    "print f(6)"
   ]
  },
  {
   "cell_type": "code",
   "execution_count": null,
   "metadata": {},
   "outputs": [],
   "source": []
  }
 ],
 "metadata": {
  "kernelspec": {
   "display_name": "Python 2",
   "language": "python",
   "name": "python2"
  },
  "language_info": {
   "codemirror_mode": {
    "name": "ipython",
    "version": 2
   },
   "file_extension": ".py",
   "mimetype": "text/x-python",
   "name": "python",
   "nbconvert_exporter": "python",
   "pygments_lexer": "ipython2",
   "version": "2.7.15"
  }
 },
 "nbformat": 4,
 "nbformat_minor": 2
}
